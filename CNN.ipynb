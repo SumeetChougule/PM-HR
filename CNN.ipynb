{
  "nbformat": 4,
  "nbformat_minor": 0,
  "metadata": {
    "colab": {
      "provenance": [],
      "collapsed_sections": []
    },
    "kernelspec": {
      "name": "python3",
      "display_name": "Python 3"
    },
    "language_info": {
      "name": "python"
    }
  },
  "cells": [
    {
      "cell_type": "code",
      "execution_count": 3,
      "metadata": {
        "id": "qCRUeAeCEaHf"
      },
      "outputs": [],
      "source": [
        "import tensorflow as tp\n",
        "import numpy as np\n",
        "import matplotlib.pyplot as plt\n",
        "import tensorflow.keras.layers as tfl"
      ]
    },
    {
      "cell_type": "markdown",
      "source": [
        "Input data"
      ],
      "metadata": {
        "id": "08xexuzCFHCf"
      }
    },
    {
      "cell_type": "code",
      "source": [],
      "metadata": {
        "id": "GGvAuICUE8hX"
      },
      "execution_count": 2,
      "outputs": []
    },
    {
      "cell_type": "code",
      "source": [
        "class MR(tf.keras.Model):\n",
        "  \n",
        "  def __init__(self, in_dim):\n",
        "    super(CVAE, self).__init__()\n",
        "    self.in_dim = in_dim\n",
        "    self.cnn = tf.keras.Sequential([\n",
        "        tfl.InputLayer(input_shape=(32,32,32,1)),\n",
        "        tfl.Conv3D(filters = 32, kernel_size= 3, strides=(2,2,2), padding='same', activation= 'relu'),\n",
        "        tfl.MaxPooling3D(pool_size=(2,2,2), strides = None, padding ='valid')\n",
        "        tfl.Conv3D(filters = 64, kernel_size= 3, strides=(2,2,2), padding='same', activation= 'relu'),\n",
        "        tfl.Flatten(),\n",
        "        tfl.Dense(80, activation= 'relu'),\n",
        "        tfl.Dense(30, activation = 'relu'),\n",
        "        tfl.Dense(in_dim, activation= 'linear')\n",
        "    ])\n",
        "\n",
        "multi_res = MR()\n",
        "\n"
      ],
      "metadata": {
        "colab": {
          "base_uri": "https://localhost:8080/",
          "height": 134
        },
        "id": "BFPgraoSFFLI",
        "outputId": "c7d87813-cdc3-4959-d93d-7c15a90a43bb"
      },
      "execution_count": 4,
      "outputs": [
        {
          "output_type": "error",
          "ename": "SyntaxError",
          "evalue": "ignored",
          "traceback": [
            "\u001b[0;36m  File \u001b[0;32m\"<ipython-input-4-9aaf9a6565f3>\"\u001b[0;36m, line \u001b[0;32m10\u001b[0m\n\u001b[0;31m    tfl.Conv3D(filters = 64, kernel_size= 3, strides=(2,2,2), padding='same', activation= 'relu'),\u001b[0m\n\u001b[0m      ^\u001b[0m\n\u001b[0;31mSyntaxError\u001b[0m\u001b[0;31m:\u001b[0m invalid syntax\n"
          ]
        }
      ]
    },
    {
      "cell_type": "code",
      "source": [
        "multi_res.compile(optimizer = 'adam', loss = losses.MeanSquaredError())"
      ],
      "metadata": {
        "id": "fdmbpIxvL9Mh"
      },
      "execution_count": null,
      "outputs": []
    }
  ]
}