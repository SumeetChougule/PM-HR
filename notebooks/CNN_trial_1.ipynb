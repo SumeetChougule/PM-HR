{
  "nbformat": 4,
  "nbformat_minor": 0,
  "metadata": {
    "colab": {
      "provenance": [],
      "collapsed_sections": [],
      "authorship_tag": "ABX9TyM3J6mPc6kRhGV9pzdcsZic",
      "include_colab_link": true
    },
    "kernelspec": {
      "name": "python3",
      "display_name": "Python 3"
    },
    "language_info": {
      "name": "python"
    },
    "accelerator": "GPU",
    "gpuClass": "standard"
  },
  "cells": [
    {
      "cell_type": "markdown",
      "metadata": {
        "id": "view-in-github",
        "colab_type": "text"
      },
      "source": [
        "<a href=\"https://colab.research.google.com/github/SumeetChougule/PM-HR/blob/main/notebooks/CNN_trial_1.ipynb\" target=\"_parent\"><img src=\"https://colab.research.google.com/assets/colab-badge.svg\" alt=\"Open In Colab\"/></a>"
      ]
    },
    {
      "cell_type": "markdown",
      "source": [
        "## git clone"
      ],
      "metadata": {
        "id": "e1nQKU5Y0VH9"
      }
    },
    {
      "cell_type": "code",
      "source": [],
      "metadata": {
        "id": "3NUUsm3J0R0T"
      },
      "execution_count": 2,
      "outputs": []
    },
    {
      "cell_type": "code",
      "source": [
        "!git clone https://github.com/DifferentiableUniverseInitiative/flowpm.git"
      ],
      "metadata": {
        "id": "0cF4iA6gTKno",
        "colab": {
          "base_uri": "https://localhost:8080/"
        },
        "outputId": "e5166902-bc05-4869-ffb8-5a606742f9e0"
      },
      "execution_count": 3,
      "outputs": [
        {
          "output_type": "stream",
          "name": "stdout",
          "text": [
            "Cloning into 'flowpm'...\n",
            "remote: Enumerating objects: 3470, done.\u001b[K\n",
            "remote: Counting objects: 100% (1315/1315), done.\u001b[K\n",
            "remote: Compressing objects: 100% (463/463), done.\u001b[K\n",
            "remote: Total 3470 (delta 855), reused 1230 (delta 832), pack-reused 2155\u001b[K\n",
            "Receiving objects: 100% (3470/3470), 65.55 MiB | 14.81 MiB/s, done.\n",
            "Resolving deltas: 100% (2284/2284), done.\n"
          ]
        }
      ]
    },
    {
      "cell_type": "code",
      "source": [
        "!pip install git+https://github.com/DifferentiableUniverseInitiative/flowpm.git"
      ],
      "metadata": {
        "id": "2gGNrQLxTSGB",
        "colab": {
          "base_uri": "https://localhost:8080/"
        },
        "outputId": "e299541b-9aae-49a1-ff67-5be75a4f4056"
      },
      "execution_count": 4,
      "outputs": [
        {
          "output_type": "stream",
          "name": "stdout",
          "text": [
            "Looking in indexes: https://pypi.org/simple, https://us-python.pkg.dev/colab-wheels/public/simple/\n",
            "Collecting git+https://github.com/DifferentiableUniverseInitiative/flowpm.git\n",
            "  Cloning https://github.com/DifferentiableUniverseInitiative/flowpm.git to /tmp/pip-req-build-prxmwl4j\n",
            "  Running command git clone -q https://github.com/DifferentiableUniverseInitiative/flowpm.git /tmp/pip-req-build-prxmwl4j\n",
            "Requirement already satisfied: astropy in /usr/local/lib/python3.7/dist-packages (from flowpm==0.1.2.dev252+g8f9415b) (4.3.1)\n",
            "Requirement already satisfied: scipy in /usr/local/lib/python3.7/dist-packages (from flowpm==0.1.2.dev252+g8f9415b) (1.7.3)\n",
            "Collecting mesh-tensorflow\n",
            "  Downloading mesh_tensorflow-0.1.21-py3-none-any.whl (385 kB)\n",
            "\u001b[K     |████████████████████████████████| 385 kB 26.2 MB/s \n",
            "\u001b[?25hRequirement already satisfied: tensorflow_probability in /usr/local/lib/python3.7/dist-packages (from flowpm==0.1.2.dev252+g8f9415b) (0.16.0)\n",
            "Collecting bigfile\n",
            "  Downloading bigfile-0.1.51.tar.gz (221 kB)\n",
            "\u001b[K     |████████████████████████████████| 221 kB 75.5 MB/s \n",
            "\u001b[?25hCollecting tensorflow_addons\n",
            "  Downloading tensorflow_addons-0.17.1-cp37-cp37m-manylinux_2_17_x86_64.manylinux2014_x86_64.whl (1.1 MB)\n",
            "\u001b[K     |████████████████████████████████| 1.1 MB 57.7 MB/s \n",
            "\u001b[?25hRequirement already satisfied: importlib-metadata in /usr/local/lib/python3.7/dist-packages (from astropy->flowpm==0.1.2.dev252+g8f9415b) (4.12.0)\n",
            "Requirement already satisfied: pyerfa>=1.7.3 in /usr/local/lib/python3.7/dist-packages (from astropy->flowpm==0.1.2.dev252+g8f9415b) (2.0.0.1)\n",
            "Requirement already satisfied: numpy>=1.17 in /usr/local/lib/python3.7/dist-packages (from astropy->flowpm==0.1.2.dev252+g8f9415b) (1.21.6)\n",
            "Requirement already satisfied: cython in /usr/local/lib/python3.7/dist-packages (from bigfile->flowpm==0.1.2.dev252+g8f9415b) (0.29.32)\n",
            "Requirement already satisfied: zipp>=0.5 in /usr/local/lib/python3.7/dist-packages (from importlib-metadata->astropy->flowpm==0.1.2.dev252+g8f9415b) (3.8.1)\n",
            "Requirement already satisfied: typing-extensions>=3.6.4 in /usr/local/lib/python3.7/dist-packages (from importlib-metadata->astropy->flowpm==0.1.2.dev252+g8f9415b) (4.1.1)\n",
            "Requirement already satisfied: absl-py in /usr/local/lib/python3.7/dist-packages (from mesh-tensorflow->flowpm==0.1.2.dev252+g8f9415b) (1.2.0)\n",
            "Requirement already satisfied: gin-config in /usr/local/lib/python3.7/dist-packages (from mesh-tensorflow->flowpm==0.1.2.dev252+g8f9415b) (0.5.0)\n",
            "Requirement already satisfied: six in /usr/local/lib/python3.7/dist-packages (from mesh-tensorflow->flowpm==0.1.2.dev252+g8f9415b) (1.15.0)\n",
            "Requirement already satisfied: future in /usr/local/lib/python3.7/dist-packages (from mesh-tensorflow->flowpm==0.1.2.dev252+g8f9415b) (0.16.0)\n",
            "Requirement already satisfied: typeguard>=2.7 in /usr/local/lib/python3.7/dist-packages (from tensorflow_addons->flowpm==0.1.2.dev252+g8f9415b) (2.7.1)\n",
            "Requirement already satisfied: packaging in /usr/local/lib/python3.7/dist-packages (from tensorflow_addons->flowpm==0.1.2.dev252+g8f9415b) (21.3)\n",
            "Requirement already satisfied: pyparsing!=3.0.5,>=2.0.2 in /usr/local/lib/python3.7/dist-packages (from packaging->tensorflow_addons->flowpm==0.1.2.dev252+g8f9415b) (3.0.9)\n",
            "Requirement already satisfied: cloudpickle>=1.3 in /usr/local/lib/python3.7/dist-packages (from tensorflow_probability->flowpm==0.1.2.dev252+g8f9415b) (1.5.0)\n",
            "Requirement already satisfied: dm-tree in /usr/local/lib/python3.7/dist-packages (from tensorflow_probability->flowpm==0.1.2.dev252+g8f9415b) (0.1.7)\n",
            "Requirement already satisfied: decorator in /usr/local/lib/python3.7/dist-packages (from tensorflow_probability->flowpm==0.1.2.dev252+g8f9415b) (4.4.2)\n",
            "Requirement already satisfied: gast>=0.3.2 in /usr/local/lib/python3.7/dist-packages (from tensorflow_probability->flowpm==0.1.2.dev252+g8f9415b) (0.5.3)\n",
            "Building wheels for collected packages: flowpm, bigfile\n",
            "  Building wheel for flowpm (setup.py) ... \u001b[?25l\u001b[?25hdone\n",
            "  Created wheel for flowpm: filename=flowpm-0.1.2.dev252+g8f9415b-py3-none-any.whl size=45196 sha256=0a2b8eb382782cae40a2f2a48c1eb5512f813bdfa5f7cac3a3a1521a456ed812\n",
            "  Stored in directory: /tmp/pip-ephem-wheel-cache-hpjlgy4c/wheels/62/64/5f/3dd430bb0fd93140aa11dda1ffbb7a9c3cffb9a3743c997423\n",
            "  Building wheel for bigfile (setup.py) ... \u001b[?25l\u001b[?25hdone\n",
            "  Created wheel for bigfile: filename=bigfile-0.1.51-cp37-cp37m-linux_x86_64.whl size=568150 sha256=f91a4aea4e07438abceee4cb17975da7f83e7b59e6f3135dc27f6c3b612a0aa2\n",
            "  Stored in directory: /root/.cache/pip/wheels/c9/ab/78/57cbebe09989dfe163e7bfc952dcd8a08f8a71c70166c6135a\n",
            "Successfully built flowpm bigfile\n",
            "Installing collected packages: tensorflow-addons, mesh-tensorflow, bigfile, flowpm\n",
            "Successfully installed bigfile-0.1.51 flowpm-0.1.2.dev252+g8f9415b mesh-tensorflow-0.1.21 tensorflow-addons-0.17.1\n"
          ]
        }
      ]
    },
    {
      "cell_type": "markdown",
      "source": [
        "## Modules"
      ],
      "metadata": {
        "id": "tOAx0RhH0ilJ"
      }
    },
    {
      "cell_type": "code",
      "source": [
        "import tensorflow as tf\n",
        "import numpy as np\n",
        "import matplotlib.pyplot as plt\n",
        "import tensorflow.keras.layers as tfl\n",
        "config = tf.compat.v1.ConfigProto()\n",
        "config.gpu_options.allow_growth = True\n",
        "session = tf.compat.v1.Session(config=config)\n",
        "from tensorflow.keras import datasets, layers, models, losses\n",
        "\n",
        "import tensorflow_probability as tfp\n",
        "tfd = tfp.distributions"
      ],
      "metadata": {
        "id": "Z1dbbyMd0etV"
      },
      "execution_count": 1,
      "outputs": []
    },
    {
      "cell_type": "code",
      "source": [
        "import flowpm\n",
        "from astropy.cosmology import Planck15\n",
        "from flowpm import linear_field, lpt_init, nbody, cic_paint, cic_readout\n",
        "from flowpm.utils import r2c3d, c2r3d\n",
        "\n",
        "from scipy.interpolate import InterpolatedUnivariateSpline as iuspline\n"
      ],
      "metadata": {
        "id": "ohtGLFPu0qcY"
      },
      "execution_count": 2,
      "outputs": []
    },
    {
      "cell_type": "markdown",
      "source": [
        "# Input data from PM\n",
        "\n",
        "\n",
        "\n",
        "\n"
      ],
      "metadata": {
        "id": "08xexuzCFHCf"
      }
    },
    {
      "cell_type": "code",
      "source": [
        "bs, nc = 100, 32\n",
        "nsteps = 5\n",
        "a0, af, nsteps = 0.1, 1.0,  nsteps\n",
        "stages = np.linspace(a0, af, nsteps, endpoint=True)\n",
        "donbody = False\n",
        "dnoise = 1. #0.1\n",
        "\n",
        "klin, plin = np.loadtxt('flowpm/flowpm/data/Planck15_a1p00.txt').T\n",
        "ipklin = iuspline(klin, plin)"
      ],
      "metadata": {
        "id": "GGvAuICUE8hX"
      },
      "execution_count": 3,
      "outputs": []
    },
    {
      "cell_type": "code",
      "source": [
        "@tf.function\n",
        "def pm(linear):\n",
        "    print(\"PM graph\")\n",
        "    cosmo = flowpm.cosmology.Planck15()\n",
        "    state = lpt_init(cosmo, linear, a=a0, order=2)\n",
        "    final_state = nbody(cosmo, state,  stages, nc)\n",
        "    tfinal_field = cic_paint(tf.zeros_like(linear), final_state[0])\n",
        "    return final_state, tfinal_field"
      ],
      "metadata": {
        "id": "xs93aVf0U5hO"
      },
      "execution_count": 4,
      "outputs": []
    },
    {
      "cell_type": "code",
      "source": [
        "ic = linear_field(nc, bs, ipklin, name='pm').numpy()\n",
        "state, fin = pm(tf.constant(ic))\n",
        "data = fin + np.random.normal(0, dnoise, nc**3).reshape(fin.shape)\n",
        "\n",
        "data = data.numpy().astype(np.float32)"
      ],
      "metadata": {
        "colab": {
          "base_uri": "https://localhost:8080/"
        },
        "id": "haC4S0C-VIiY",
        "outputId": "624d5817-4e00-4bac-c812-0ac7db48c732"
      },
      "execution_count": 5,
      "outputs": [
        {
          "output_type": "stream",
          "name": "stdout",
          "text": [
            "PM graph\n"
          ]
        }
      ]
    },
    {
      "cell_type": "code",
      "source": [
        "data.shape"
      ],
      "metadata": {
        "colab": {
          "base_uri": "https://localhost:8080/"
        },
        "id": "2RXlhgE1D6l1",
        "outputId": "628dc0f6-1847-4227-b35b-6a4268645664"
      },
      "execution_count": 14,
      "outputs": [
        {
          "output_type": "execute_result",
          "data": {
            "text/plain": [
              "(1, 32, 32, 32)"
            ]
          },
          "metadata": {},
          "execution_count": 14
        }
      ]
    },
    {
      "cell_type": "code",
      "source": [
        "ip_cnn = tf.expand_dims(data,-1)\n",
        "ip = ip_cnn.shape\n",
        "ip[1:]"
      ],
      "metadata": {
        "colab": {
          "base_uri": "https://localhost:8080/"
        },
        "id": "WWAQdm4KHyZW",
        "outputId": "1023cffc-8b5b-4c05-e53a-fa8c1711c7d9"
      },
      "execution_count": 9,
      "outputs": [
        {
          "output_type": "execute_result",
          "data": {
            "text/plain": [
              "TensorShape([32, 32, 32, 1])"
            ]
          },
          "metadata": {},
          "execution_count": 9
        }
      ]
    },
    {
      "cell_type": "markdown",
      "source": [
        "CNN $→$ CIC_readout $→$ Flatten $→ MLP $"
      ],
      "metadata": {
        "id": "BZxfNC5ZTtIN"
      }
    },
    {
      "cell_type": "code",
      "source": [
        "def cnn_model(input_shape):\n",
        "    model = tf.keras.Sequential([\n",
        "        tfl.InputLayer(input_shape= input_shape),\n",
        "        tfl.Conv3D(filters = 32, kernel_size= 3, strides=(2,2,2), padding='same', activation= 'relu',data_format='channels_last'),\n",
        "        tfl.MaxPooling3D(pool_size=(2,2,2), strides = None, padding ='valid',data_format='channels_last'),\n",
        "        tfl.Conv3D(filters = 64, kernel_size= 3, strides=(2,2,2), padding='same', activation= 'relu',data_format='channels_last'),\n",
        "        tfl.MaxPooling3D(pool_size=(3,3,3), strides = None, padding ='valid',data_format='channels_last')\n",
        "        ])\n",
        "    return model\n",
        "\n",
        "cnn = cnn_model(ip[1:])"
      ],
      "metadata": {
        "id": "BFPgraoSFFLI"
      },
      "execution_count": 14,
      "outputs": []
    },
    {
      "cell_type": "code",
      "source": [
        "cnn_op=cnn(data).numpy().astype(np.float32)"
      ],
      "metadata": {
        "id": "Kduf_RacF6zE"
      },
      "execution_count": 15,
      "outputs": []
    },
    {
      "cell_type": "code",
      "source": [
        "cnn_op.shape"
      ],
      "metadata": {
        "colab": {
          "base_uri": "https://localhost:8080/"
        },
        "id": "_rqQmCLWGFwK",
        "outputId": "45389b65-f22a-4e11-bbd6-3ad0d126163a"
      },
      "execution_count": 16,
      "outputs": [
        {
          "output_type": "execute_result",
          "data": {
            "text/plain": [
              "(1, 1, 1, 1, 64)"
            ]
          },
          "metadata": {},
          "execution_count": 16
        }
      ]
    },
    {
      "cell_type": "code",
      "source": [
        "cnn.summary()"
      ],
      "metadata": {
        "colab": {
          "base_uri": "https://localhost:8080/"
        },
        "id": "D15KNj4mqj3P",
        "outputId": "20751f7d-5f83-4b34-e277-3cfc90ccc561"
      },
      "execution_count": 17,
      "outputs": [
        {
          "output_type": "stream",
          "name": "stdout",
          "text": [
            "Model: \"sequential_3\"\n",
            "_________________________________________________________________\n",
            " Layer (type)                Output Shape              Param #   \n",
            "=================================================================\n",
            " conv3d_6 (Conv3D)           (None, 16, 16, 16, 32)    896       \n",
            "                                                                 \n",
            " max_pooling3d_6 (MaxPooling  (None, 8, 8, 8, 32)      0         \n",
            " 3D)                                                             \n",
            "                                                                 \n",
            " conv3d_7 (Conv3D)           (None, 4, 4, 4, 64)       55360     \n",
            "                                                                 \n",
            " max_pooling3d_7 (MaxPooling  (None, 1, 1, 1, 64)      0         \n",
            " 3D)                                                             \n",
            "                                                                 \n",
            "=================================================================\n",
            "Total params: 56,256\n",
            "Trainable params: 56,256\n",
            "Non-trainable params: 0\n",
            "_________________________________________________________________\n"
          ]
        }
      ]
    },
    {
      "cell_type": "markdown",
      "source": [
        "Interpolation of CNN output"
      ],
      "metadata": {
        "id": "zsF6hPnHLCCg"
      }
    },
    {
      "cell_type": "code",
      "source": [
        "state[0].shape"
      ],
      "metadata": {
        "colab": {
          "base_uri": "https://localhost:8080/"
        },
        "id": "682Zxcd4P1ij",
        "outputId": "48196327-a6ad-45bc-b6d6-25f6d83c74d6"
      },
      "execution_count": 19,
      "outputs": [
        {
          "output_type": "execute_result",
          "data": {
            "text/plain": [
              "TensorShape([1, 32768, 3])"
            ]
          },
          "metadata": {},
          "execution_count": 19
        }
      ]
    },
    {
      "cell_type": "code",
      "source": [
        "mesh = tf.zeros([1, nc, nc, nc])\n",
        "p_pos = cic_readout( mesh , state[0])\n",
        "MLP_ip = tfl.Flatten()(p_pos)\n",
        "MLP_ip.shape"
      ],
      "metadata": {
        "id": "pIbvSdDQyIe_",
        "colab": {
          "base_uri": "https://localhost:8080/"
        },
        "outputId": "f2ed28bb-afb9-421d-b1c7-4b5b00861c35"
      },
      "execution_count": 26,
      "outputs": [
        {
          "output_type": "execute_result",
          "data": {
            "text/plain": [
              "TensorShape([1, 32768])"
            ]
          },
          "metadata": {},
          "execution_count": 26
        }
      ]
    },
    {
      "cell_type": "code",
      "source": [
        "def MLP():\n",
        "  model = tf.keras.Sequential([\n",
        "      tfl.InputLayer(input_shape = MLP_ip.shape),\n",
        "      tfl.Dense(64, activation = 'relu'),\n",
        "      tfl.Dense(32, activation = 'relu'),\n",
        "# how many layers for the output?      \n",
        "      tfl.Dense( 2, activation = 'linear')\n",
        "  ])\n",
        "  return model \n",
        "\n",
        "f_op = MLP()"
      ],
      "metadata": {
        "id": "h9hHrx-L0GCO"
      },
      "execution_count": 28,
      "outputs": []
    },
    {
      "cell_type": "code",
      "source": [
        "f_op.summary()"
      ],
      "metadata": {
        "id": "MixUOlvDIHk5",
        "colab": {
          "base_uri": "https://localhost:8080/"
        },
        "outputId": "d58c742c-192e-4030-8a46-254100209ed4"
      },
      "execution_count": 29,
      "outputs": [
        {
          "output_type": "stream",
          "name": "stdout",
          "text": [
            "Model: \"sequential_4\"\n",
            "_________________________________________________________________\n",
            " Layer (type)                Output Shape              Param #   \n",
            "=================================================================\n",
            " dense (Dense)               (None, 1, 64)             2097216   \n",
            "                                                                 \n",
            " dense_1 (Dense)             (None, 1, 32)             2080      \n",
            "                                                                 \n",
            " dense_2 (Dense)             (None, 1, 2)              66        \n",
            "                                                                 \n",
            "=================================================================\n",
            "Total params: 2,099,362\n",
            "Trainable params: 2,099,362\n",
            "Non-trainable params: 0\n",
            "_________________________________________________________________\n"
          ]
        }
      ]
    },
    {
      "cell_type": "code",
      "source": [],
      "metadata": {
        "id": "c1HS24NAN4CO"
      },
      "execution_count": null,
      "outputs": []
    }
  ]
}