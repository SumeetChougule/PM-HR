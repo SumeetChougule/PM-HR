{
  "nbformat": 4,
  "nbformat_minor": 0,
  "metadata": {
    "colab": {
      "provenance": [],
      "collapsed_sections": [],
      "authorship_tag": "ABX9TyMf5PSB9g3/SNUhd7LEl715",
      "include_colab_link": true
    },
    "kernelspec": {
      "name": "python3",
      "display_name": "Python 3"
    },
    "language_info": {
      "name": "python"
    },
    "accelerator": "GPU",
    "gpuClass": "standard"
  },
  "cells": [
    {
      "cell_type": "markdown",
      "metadata": {
        "id": "view-in-github",
        "colab_type": "text"
      },
      "source": [
        "<a href=\"https://colab.research.google.com/github/SumeetChougule/PM-HR/blob/main/notebooks/CNN_trial_1.ipynb\" target=\"_parent\"><img src=\"https://colab.research.google.com/assets/colab-badge.svg\" alt=\"Open In Colab\"/></a>"
      ]
    },
    {
      "cell_type": "markdown",
      "source": [
        "## git clone"
      ],
      "metadata": {
        "id": "e1nQKU5Y0VH9"
      }
    },
    {
      "cell_type": "code",
      "source": [],
      "metadata": {
        "id": "3NUUsm3J0R0T"
      },
      "execution_count": null,
      "outputs": []
    },
    {
      "cell_type": "code",
      "source": [
        "!git clone https://github.com/DifferentiableUniverseInitiative/flowpm.git"
      ],
      "metadata": {
        "id": "0cF4iA6gTKno",
        "colab": {
          "base_uri": "https://localhost:8080/"
        },
        "outputId": "71ed8f02-2f93-443f-fb63-7f54e14b6cb2"
      },
      "execution_count": 1,
      "outputs": [
        {
          "output_type": "stream",
          "name": "stdout",
          "text": [
            "Cloning into 'flowpm'...\n",
            "remote: Enumerating objects: 3470, done.\u001b[K\n",
            "remote: Counting objects: 100% (1315/1315), done.\u001b[K\n",
            "remote: Compressing objects: 100% (462/462), done.\u001b[K\n",
            "remote: Total 3470 (delta 856), reused 1230 (delta 833), pack-reused 2155\u001b[K\n",
            "Receiving objects: 100% (3470/3470), 65.54 MiB | 36.10 MiB/s, done.\n",
            "Resolving deltas: 100% (2285/2285), done.\n"
          ]
        }
      ]
    },
    {
      "cell_type": "code",
      "source": [
        "!pip install git+https://github.com/DifferentiableUniverseInitiative/flowpm.git"
      ],
      "metadata": {
        "id": "2gGNrQLxTSGB",
        "colab": {
          "base_uri": "https://localhost:8080/"
        },
        "outputId": "c2fe13f6-d01a-4085-82b9-95836621f81a"
      },
      "execution_count": 2,
      "outputs": [
        {
          "output_type": "stream",
          "name": "stdout",
          "text": [
            "Looking in indexes: https://pypi.org/simple, https://us-python.pkg.dev/colab-wheels/public/simple/\n",
            "Collecting git+https://github.com/DifferentiableUniverseInitiative/flowpm.git\n",
            "  Cloning https://github.com/DifferentiableUniverseInitiative/flowpm.git to /tmp/pip-req-build-1gj205mf\n",
            "  Running command git clone -q https://github.com/DifferentiableUniverseInitiative/flowpm.git /tmp/pip-req-build-1gj205mf\n",
            "Requirement already satisfied: astropy in /usr/local/lib/python3.7/dist-packages (from flowpm==0.1.2.dev252+g8f9415b) (4.3.1)\n",
            "Requirement already satisfied: scipy in /usr/local/lib/python3.7/dist-packages (from flowpm==0.1.2.dev252+g8f9415b) (1.7.3)\n",
            "Collecting mesh-tensorflow\n",
            "  Downloading mesh_tensorflow-0.1.21-py3-none-any.whl (385 kB)\n",
            "\u001b[K     |████████████████████████████████| 385 kB 8.2 MB/s \n",
            "\u001b[?25hRequirement already satisfied: tensorflow_probability in /usr/local/lib/python3.7/dist-packages (from flowpm==0.1.2.dev252+g8f9415b) (0.16.0)\n",
            "Collecting bigfile\n",
            "  Downloading bigfile-0.1.51.tar.gz (221 kB)\n",
            "\u001b[K     |████████████████████████████████| 221 kB 49.3 MB/s \n",
            "\u001b[?25hCollecting tensorflow_addons\n",
            "  Downloading tensorflow_addons-0.17.1-cp37-cp37m-manylinux_2_17_x86_64.manylinux2014_x86_64.whl (1.1 MB)\n",
            "\u001b[K     |████████████████████████████████| 1.1 MB 15.3 MB/s \n",
            "\u001b[?25hRequirement already satisfied: importlib-metadata in /usr/local/lib/python3.7/dist-packages (from astropy->flowpm==0.1.2.dev252+g8f9415b) (4.12.0)\n",
            "Requirement already satisfied: numpy>=1.17 in /usr/local/lib/python3.7/dist-packages (from astropy->flowpm==0.1.2.dev252+g8f9415b) (1.21.6)\n",
            "Requirement already satisfied: pyerfa>=1.7.3 in /usr/local/lib/python3.7/dist-packages (from astropy->flowpm==0.1.2.dev252+g8f9415b) (2.0.0.1)\n",
            "Requirement already satisfied: cython in /usr/local/lib/python3.7/dist-packages (from bigfile->flowpm==0.1.2.dev252+g8f9415b) (0.29.32)\n",
            "Requirement already satisfied: typing-extensions>=3.6.4 in /usr/local/lib/python3.7/dist-packages (from importlib-metadata->astropy->flowpm==0.1.2.dev252+g8f9415b) (4.1.1)\n",
            "Requirement already satisfied: zipp>=0.5 in /usr/local/lib/python3.7/dist-packages (from importlib-metadata->astropy->flowpm==0.1.2.dev252+g8f9415b) (3.8.1)\n",
            "Requirement already satisfied: six in /usr/local/lib/python3.7/dist-packages (from mesh-tensorflow->flowpm==0.1.2.dev252+g8f9415b) (1.15.0)\n",
            "Requirement already satisfied: absl-py in /usr/local/lib/python3.7/dist-packages (from mesh-tensorflow->flowpm==0.1.2.dev252+g8f9415b) (1.2.0)\n",
            "Requirement already satisfied: gin-config in /usr/local/lib/python3.7/dist-packages (from mesh-tensorflow->flowpm==0.1.2.dev252+g8f9415b) (0.5.0)\n",
            "Requirement already satisfied: future in /usr/local/lib/python3.7/dist-packages (from mesh-tensorflow->flowpm==0.1.2.dev252+g8f9415b) (0.16.0)\n",
            "Requirement already satisfied: typeguard>=2.7 in /usr/local/lib/python3.7/dist-packages (from tensorflow_addons->flowpm==0.1.2.dev252+g8f9415b) (2.7.1)\n",
            "Requirement already satisfied: packaging in /usr/local/lib/python3.7/dist-packages (from tensorflow_addons->flowpm==0.1.2.dev252+g8f9415b) (21.3)\n",
            "Requirement already satisfied: pyparsing!=3.0.5,>=2.0.2 in /usr/local/lib/python3.7/dist-packages (from packaging->tensorflow_addons->flowpm==0.1.2.dev252+g8f9415b) (3.0.9)\n",
            "Requirement already satisfied: dm-tree in /usr/local/lib/python3.7/dist-packages (from tensorflow_probability->flowpm==0.1.2.dev252+g8f9415b) (0.1.7)\n",
            "Requirement already satisfied: cloudpickle>=1.3 in /usr/local/lib/python3.7/dist-packages (from tensorflow_probability->flowpm==0.1.2.dev252+g8f9415b) (1.5.0)\n",
            "Requirement already satisfied: gast>=0.3.2 in /usr/local/lib/python3.7/dist-packages (from tensorflow_probability->flowpm==0.1.2.dev252+g8f9415b) (0.5.3)\n",
            "Requirement already satisfied: decorator in /usr/local/lib/python3.7/dist-packages (from tensorflow_probability->flowpm==0.1.2.dev252+g8f9415b) (4.4.2)\n",
            "Building wheels for collected packages: flowpm, bigfile\n",
            "  Building wheel for flowpm (setup.py) ... \u001b[?25l\u001b[?25hdone\n",
            "  Created wheel for flowpm: filename=flowpm-0.1.2.dev252+g8f9415b-py3-none-any.whl size=45196 sha256=070af65333095dc04b57337512e9a8d4e0b10990d52d4e141f9fffed7ba09443\n",
            "  Stored in directory: /tmp/pip-ephem-wheel-cache-riqg78n5/wheels/62/64/5f/3dd430bb0fd93140aa11dda1ffbb7a9c3cffb9a3743c997423\n",
            "  Building wheel for bigfile (setup.py) ... \u001b[?25l\u001b[?25hdone\n",
            "  Created wheel for bigfile: filename=bigfile-0.1.51-cp37-cp37m-linux_x86_64.whl size=568161 sha256=00d5c71db8901e490d1d490adca138d4efbfa79c34675712b25218c2797f14a9\n",
            "  Stored in directory: /root/.cache/pip/wheels/c9/ab/78/57cbebe09989dfe163e7bfc952dcd8a08f8a71c70166c6135a\n",
            "Successfully built flowpm bigfile\n",
            "Installing collected packages: tensorflow-addons, mesh-tensorflow, bigfile, flowpm\n",
            "Successfully installed bigfile-0.1.51 flowpm-0.1.2.dev252+g8f9415b mesh-tensorflow-0.1.21 tensorflow-addons-0.17.1\n"
          ]
        }
      ]
    },
    {
      "cell_type": "markdown",
      "source": [
        "## Modules"
      ],
      "metadata": {
        "id": "tOAx0RhH0ilJ"
      }
    },
    {
      "cell_type": "code",
      "source": [
        "import tensorflow as tf\n",
        "import numpy as np\n",
        "import matplotlib.pyplot as plt\n",
        "import tensorflow.keras.layers as tfl\n",
        "config = tf.compat.v1.ConfigProto()\n",
        "config.gpu_options.allow_growth = True\n",
        "session = tf.compat.v1.Session(config=config)\n",
        "from tensorflow.keras import datasets, layers, models, losses\n",
        "\n",
        "import tensorflow_probability as tfp\n",
        "tfd = tfp.distributions"
      ],
      "metadata": {
        "id": "Z1dbbyMd0etV"
      },
      "execution_count": 3,
      "outputs": []
    },
    {
      "cell_type": "code",
      "source": [
        "import flowpm\n",
        "from astropy.cosmology import Planck15\n",
        "from flowpm import linear_field, lpt_init, nbody, cic_paint, cic_readout\n",
        "from flowpm.utils import r2c3d, c2r3d\n",
        "\n",
        "from scipy.interpolate import InterpolatedUnivariateSpline as iuspline\n"
      ],
      "metadata": {
        "id": "ohtGLFPu0qcY"
      },
      "execution_count": 4,
      "outputs": []
    },
    {
      "cell_type": "markdown",
      "source": [
        "# Input data from PM\n",
        "\n",
        "\n",
        "\n",
        "\n"
      ],
      "metadata": {
        "id": "08xexuzCFHCf"
      }
    },
    {
      "cell_type": "code",
      "source": [
        "bs, nc = 100, 32\n",
        "nsteps = 5\n",
        "a0, af, nsteps = 0.1, 1.0,  nsteps\n",
        "stages = np.linspace(a0, af, nsteps, endpoint=True)\n",
        "donbody = False\n",
        "dnoise = 1. #0.1\n",
        "\n",
        "klin, plin = np.loadtxt('flowpm/flowpm/data/Planck15_a1p00.txt').T\n",
        "ipklin = iuspline(klin, plin)"
      ],
      "metadata": {
        "id": "GGvAuICUE8hX"
      },
      "execution_count": 5,
      "outputs": []
    },
    {
      "cell_type": "code",
      "source": [
        "@tf.function\n",
        "def pm(linear):\n",
        "    print(\"PM graph\")\n",
        "    cosmo = flowpm.cosmology.Planck15()\n",
        "    state = lpt_init(cosmo, linear, a=a0, order=2)\n",
        "    final_state = nbody(cosmo, state,  stages, nc)\n",
        "    tfinal_field = cic_paint(tf.zeros_like(linear), final_state[0])\n",
        "    return final_state, tfinal_field"
      ],
      "metadata": {
        "id": "xs93aVf0U5hO"
      },
      "execution_count": 6,
      "outputs": []
    },
    {
      "cell_type": "code",
      "source": [
        "ic = linear_field(nc, bs, ipklin, name='pm').numpy()\n",
        "state, fin = pm(tf.constant(ic))\n",
        "data = fin + np.random.normal(0, dnoise, nc**3).reshape(fin.shape)\n",
        "\n",
        "data = data.numpy().astype(np.float32)"
      ],
      "metadata": {
        "colab": {
          "base_uri": "https://localhost:8080/"
        },
        "id": "haC4S0C-VIiY",
        "outputId": "f607fc0c-61f6-44e6-c042-83cb476b50b4"
      },
      "execution_count": 7,
      "outputs": [
        {
          "output_type": "stream",
          "name": "stdout",
          "text": [
            "PM graph\n"
          ]
        }
      ]
    },
    {
      "cell_type": "code",
      "source": [
        "data.shape"
      ],
      "metadata": {
        "colab": {
          "base_uri": "https://localhost:8080/"
        },
        "id": "2RXlhgE1D6l1",
        "outputId": "628dc0f6-1847-4227-b35b-6a4268645664"
      },
      "execution_count": 14,
      "outputs": [
        {
          "output_type": "execute_result",
          "data": {
            "text/plain": [
              "(1, 32, 32, 32)"
            ]
          },
          "metadata": {},
          "execution_count": 14
        }
      ]
    },
    {
      "cell_type": "code",
      "source": [
        "ip_cnn = tf.expand_dims(data,-1)\n",
        "ip = ip_cnn.shape\n",
        "ip[1:]"
      ],
      "metadata": {
        "colab": {
          "base_uri": "https://localhost:8080/"
        },
        "id": "WWAQdm4KHyZW",
        "outputId": "f8368a99-8623-478b-f428-404037e0708e"
      },
      "execution_count": 8,
      "outputs": [
        {
          "output_type": "execute_result",
          "data": {
            "text/plain": [
              "TensorShape([32, 32, 32, 1])"
            ]
          },
          "metadata": {},
          "execution_count": 8
        }
      ]
    },
    {
      "cell_type": "markdown",
      "source": [
        "### Helper functions"
      ],
      "metadata": {
        "id": "D-KW4M3z4m81"
      }
    },
    {
      "cell_type": "code",
      "source": [
        "def cic_readout_features(mesh, part, name=\"CiCReadout\"):\n",
        "  \"\"\"\n",
        "  Reads out particles from mesh.\n",
        "  Parameters: \n",
        "  ----------- \n",
        "  mesh: tensor (batch_size, nc, nc, nc, T)\n",
        "      Input 4D mesh tensor with last axis of T features\n",
        "  \n",
        "  part: tensor (batch_size, npart, 3)\n",
        "      List of 3D particle coordinates, assumed to be in mesh units if\n",
        "  boxsize is None\n",
        "  \n",
        "  Return:\n",
        "  -------\n",
        "  value: tensor (batch_size, npart) \n",
        "      Value of the field sampled at the particle locations\n",
        "  \"\"\"\n",
        "  with tf.name_scope(\"CiCReadoutFeatures\"):\n",
        "    mesh = tf.convert_to_tensor(mesh, name=\"mesh\")\n",
        "    part = tf.convert_to_tensor(part, name=\"part\")\n",
        "\n",
        "    shape = tf.shape(mesh)\n",
        "    batch_size, nx, ny, nz = shape[0], shape[1], shape[2], shape[3]\n",
        "    nc = [nx, ny, nz]\n",
        "\n",
        "    # Flatten part if it's not already done                                                                                                                                                                                                                                                                                   \n",
        "    if len(part.shape) > 3:\n",
        "      part = tf.reshape(part, (batch_size, -1, 3))\n",
        "\n",
        "    # Extract the indices of all the mesh points affected by each particles                                                                                                                                                                                                                                                   \n",
        "    part = tf.expand_dims(part, 2)\n",
        "    floor = tf.floor(part)\n",
        "    connection = tf.expand_dims(\n",
        "        tf.constant([[[0, 0, 0], [1., 0, 0], [0., 1, 0], [0., 0, 1],\n",
        "                      [1., 1, 0], [1., 0, 1], [0., 1, 1], [1., 1, 1]]]), 0)\n",
        "\n",
        "    neighboor_coords = tf.add(floor, connection)\n",
        "    kernel = 1. - tf.abs(part - neighboor_coords)\n",
        "    kernel = kernel[..., 0] * kernel[..., 1] * kernel[..., 2]\n",
        "\n",
        "    neighboor_coords = tf.cast(neighboor_coords, tf.int32)\n",
        "    neighboor_coords = tf.math.mod(neighboor_coords, nc)\n",
        "\n",
        "    meshvals = tf.gather_nd(mesh, neighboor_coords, batch_dims=1)\n",
        "    weightedvals = tf.multiply(meshvals, tf.expand_dims(kernel, -1))\n",
        "    value = tf.reduce_sum(weightedvals, axis=-2)\n",
        "    return value"
      ],
      "metadata": {
        "id": "2fiyqjs84qOw"
      },
      "execution_count": 32,
      "outputs": []
    },
    {
      "cell_type": "markdown",
      "source": [
        "## CNN architecture"
      ],
      "metadata": {
        "id": "GnBqDqgM4br2"
      }
    },
    {
      "cell_type": "markdown",
      "source": [
        "CNN $→$ CIC_readout $→$ Flatten $→ MLP $"
      ],
      "metadata": {
        "id": "BZxfNC5ZTtIN"
      }
    },
    {
      "cell_type": "code",
      "source": [
        "def cnn_model(input_shape):\n",
        "    model = tf.keras.Sequential([\n",
        "        tfl.InputLayer(input_shape= input_shape),\n",
        "        tfl.Conv3D(filters = 2, kernel_size= 3, strides=(1,1,1), padding='same', activation= 'relu',data_format='channels_last'),\n",
        "        tfl.Conv3D(filters = 4, kernel_size= 3, strides=(1,1,1), padding='same', activation= 'relu',data_format='channels_last')\n",
        "        ])\n",
        "    return model\n",
        "\n",
        "cnn = cnn_model(ip[1:])"
      ],
      "metadata": {
        "id": "BFPgraoSFFLI"
      },
      "execution_count": 28,
      "outputs": []
    },
    {
      "cell_type": "code",
      "source": [
        "cnn_op=cnn(data)"
      ],
      "metadata": {
        "id": "Kduf_RacF6zE"
      },
      "execution_count": 29,
      "outputs": []
    },
    {
      "cell_type": "code",
      "source": [
        "cnn_op.shape"
      ],
      "metadata": {
        "colab": {
          "base_uri": "https://localhost:8080/"
        },
        "id": "FK9GdO2CWcis",
        "outputId": "5c67bb2b-9b4f-400e-ef79-44c8b6746a14"
      },
      "execution_count": 30,
      "outputs": [
        {
          "output_type": "execute_result",
          "data": {
            "text/plain": [
              "TensorShape([1, 32, 32, 32, 4])"
            ]
          },
          "metadata": {},
          "execution_count": 30
        }
      ]
    },
    {
      "cell_type": "code",
      "source": [
        "cnn.summary()"
      ],
      "metadata": {
        "colab": {
          "base_uri": "https://localhost:8080/"
        },
        "id": "D15KNj4mqj3P",
        "outputId": "e65be439-5e07-4313-92ef-e8b75afd5218"
      },
      "execution_count": 31,
      "outputs": [
        {
          "output_type": "stream",
          "name": "stdout",
          "text": [
            "Model: \"sequential_5\"\n",
            "_________________________________________________________________\n",
            " Layer (type)                Output Shape              Param #   \n",
            "=================================================================\n",
            " conv3d_11 (Conv3D)          (None, 32, 32, 32, 2)     56        \n",
            "                                                                 \n",
            " conv3d_12 (Conv3D)          (None, 32, 32, 32, 4)     220       \n",
            "                                                                 \n",
            "=================================================================\n",
            "Total params: 276\n",
            "Trainable params: 276\n",
            "Non-trainable params: 0\n",
            "_________________________________________________________________\n"
          ]
        }
      ]
    },
    {
      "cell_type": "markdown",
      "source": [
        "Interpolation of CNN output"
      ],
      "metadata": {
        "id": "zsF6hPnHLCCg"
      }
    },
    {
      "cell_type": "code",
      "source": [
        "pos = state[0].numpy()"
      ],
      "metadata": {
        "id": "682Zxcd4P1ij"
      },
      "execution_count": 34,
      "outputs": []
    },
    {
      "cell_type": "code",
      "source": [
        "p_pos = cic_readout_features( cnn_op , pos)\n",
        "MLP_ip = tfl.Flatten()(p_pos)\n",
        "MLP_ip.shape[1]"
      ],
      "metadata": {
        "id": "pIbvSdDQyIe_",
        "colab": {
          "base_uri": "https://localhost:8080/"
        },
        "outputId": "b7befe86-ebd8-412b-925b-eecb505304f9"
      },
      "execution_count": 55,
      "outputs": [
        {
          "output_type": "execute_result",
          "data": {
            "text/plain": [
              "131072"
            ]
          },
          "metadata": {},
          "execution_count": 55
        }
      ]
    },
    {
      "cell_type": "code",
      "source": [
        "nn_ip=tf.squeeze(MLP_ip)"
      ],
      "metadata": {
        "id": "mPzNOZF26Gcz"
      },
      "execution_count": 48,
      "outputs": []
    },
    {
      "cell_type": "code",
      "source": [
        "def MLP():\n",
        "  model = tf.keras.Sequential([\n",
        "      tfl.InputLayer(input_shape = MLP_ip.shape[1]),\n",
        "      tfl.Dense(64, activation = 'relu'),\n",
        "      tfl.Dense(32, activation = 'relu'),\n",
        "      tfl.Dense( 2, activation = 'linear')\n",
        "  ])\n",
        "  return model \n",
        "\n",
        "f_op = MLP()"
      ],
      "metadata": {
        "id": "h9hHrx-L0GCO"
      },
      "execution_count": 56,
      "outputs": []
    },
    {
      "cell_type": "code",
      "source": [
        "f_op.summary()"
      ],
      "metadata": {
        "id": "MixUOlvDIHk5",
        "colab": {
          "base_uri": "https://localhost:8080/"
        },
        "outputId": "56fcdf30-71de-4a6f-f584-3032cf951541"
      },
      "execution_count": 57,
      "outputs": [
        {
          "output_type": "stream",
          "name": "stdout",
          "text": [
            "Model: \"sequential_8\"\n",
            "_________________________________________________________________\n",
            " Layer (type)                Output Shape              Param #   \n",
            "=================================================================\n",
            " dense_6 (Dense)             (None, 64)                8388672   \n",
            "                                                                 \n",
            " dense_7 (Dense)             (None, 32)                2080      \n",
            "                                                                 \n",
            " dense_8 (Dense)             (None, 2)                 66        \n",
            "                                                                 \n",
            "=================================================================\n",
            "Total params: 8,390,818\n",
            "Trainable params: 8,390,818\n",
            "Non-trainable params: 0\n",
            "_________________________________________________________________\n"
          ]
        }
      ]
    },
    {
      "cell_type": "code",
      "source": [
        "f_op(MLP_ip)"
      ],
      "metadata": {
        "colab": {
          "base_uri": "https://localhost:8080/"
        },
        "id": "0xuLmBlTRqzm",
        "outputId": "d3d1062f-9739-4620-ec45-d15d011b0fe2"
      },
      "execution_count": 58,
      "outputs": [
        {
          "output_type": "execute_result",
          "data": {
            "text/plain": [
              "<tf.Tensor: shape=(1, 2), dtype=float32, numpy=array([[-0.11627301,  0.13111848]], dtype=float32)>"
            ]
          },
          "metadata": {},
          "execution_count": 58
        }
      ]
    },
    {
      "cell_type": "code",
      "source": [],
      "metadata": {
        "id": "cr8pMIjj5Zxy"
      },
      "execution_count": null,
      "outputs": []
    }
  ]
}