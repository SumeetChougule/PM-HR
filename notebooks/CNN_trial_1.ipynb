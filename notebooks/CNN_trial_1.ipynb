{
  "nbformat": 4,
  "nbformat_minor": 0,
  "metadata": {
    "colab": {
      "provenance": [],
      "collapsed_sections": [],
      "authorship_tag": "ABX9TyOG/MLds0lnsXTJmSPw942M",
      "include_colab_link": true
    },
    "kernelspec": {
      "name": "python3",
      "display_name": "Python 3"
    },
    "language_info": {
      "name": "python"
    }
  },
  "cells": [
    {
      "cell_type": "markdown",
      "metadata": {
        "id": "view-in-github",
        "colab_type": "text"
      },
      "source": [
        "<a href=\"https://colab.research.google.com/github/SumeetChougule/PM-HR/blob/main/notebooks/CNN.ipynb\" target=\"_parent\"><img src=\"https://colab.research.google.com/assets/colab-badge.svg\" alt=\"Open In Colab\"/></a>"
      ]
    },
    {
      "cell_type": "code",
      "source": [
        "!git clone https://github.com/DifferentiableUniverseInitiative/flowpm.git"
      ],
      "metadata": {
        "id": "0cF4iA6gTKno"
      },
      "execution_count": null,
      "outputs": []
    },
    {
      "cell_type": "code",
      "source": [
        "!pip install git+https://github.com/DifferentiableUniverseInitiative/flowpm.git"
      ],
      "metadata": {
        "id": "2gGNrQLxTSGB"
      },
      "execution_count": null,
      "outputs": []
    },
    {
      "cell_type": "code",
      "execution_count": 4,
      "metadata": {
        "id": "qCRUeAeCEaHf"
      },
      "outputs": [],
      "source": [
        "import tensorflow as tf\n",
        "import numpy as np\n",
        "import matplotlib.pyplot as plt\n",
        "import tensorflow.keras.layers as tfl\n",
        "config = tf.compat.v1.ConfigProto()\n",
        "config.gpu_options.allow_growth = True\n",
        "session = tf.compat.v1.Session(config=config)\n",
        "\n",
        "\n",
        "import tensorflow_probability as tfp\n",
        "tfd = tfp.distributions"
      ]
    },
    {
      "cell_type": "markdown",
      "source": [
        "# Input data from PM\n",
        "\n"
      ],
      "metadata": {
        "id": "08xexuzCFHCf"
      }
    },
    {
      "cell_type": "code",
      "source": [
        "bs, nc = 100, 32\n",
        "nsteps = 5\n",
        "a0, af, nsteps = 0.1, 1.0,  nsteps\n",
        "stages = np.linspace(a0, af, nsteps, endpoint=True)\n",
        "donbody = False\n",
        "dnoise = 1. #0.1\n",
        "\n",
        "klin, plin = np.loadtxt('flowpm/flowpm/data/Planck15_a1p00.txt').T\n",
        "ipklin = iuspline(klin, plin)"
      ],
      "metadata": {
        "id": "GGvAuICUE8hX"
      },
      "execution_count": 6,
      "outputs": []
    },
    {
      "cell_type": "code",
      "source": [
        "@tf.function\n",
        "def pm(linear):\n",
        "    print(\"PM graph\")\n",
        "    cosmo = flowpm.cosmology.Planck15()\n",
        "    state = lpt_init(cosmo, linear, a=a0, order=2)\n",
        "    final_state = nbody(cosmo, state,  stages, nc)\n",
        "    tfinal_field = cic_paint(tf.zeros_like(linear), final_state[0])\n",
        "    return final_state, tfinal_field"
      ],
      "metadata": {
        "id": "xs93aVf0U5hO"
      },
      "execution_count": 7,
      "outputs": []
    },
    {
      "cell_type": "code",
      "source": [
        "ic = linear_field(nc, bs, ipklin, name='pm').numpy()\n",
        "state, fin = pm(tf.constant(ic))\n",
        "data = fin + np.random.normal(0, dnoise, nc**3).reshape(fin.shape)\n",
        "\n",
        "data = data.numpy().astype(np.float32)"
      ],
      "metadata": {
        "colab": {
          "base_uri": "https://localhost:8080/"
        },
        "id": "haC4S0C-VIiY",
        "outputId": "9c4054da-d415-49f1-8635-637a45326abb"
      },
      "execution_count": 8,
      "outputs": [
        {
          "output_type": "stream",
          "name": "stdout",
          "text": [
            "PM graph\n"
          ]
        }
      ]
    },
    {
      "cell_type": "code",
      "source": [
        "data.shape"
      ],
      "metadata": {
        "colab": {
          "base_uri": "https://localhost:8080/"
        },
        "id": "nMHwg4MBWiIA",
        "outputId": "0bf211e6-a96c-43e4-8954-122fa620b3fa"
      },
      "execution_count": 17,
      "outputs": [
        {
          "output_type": "execute_result",
          "data": {
            "text/plain": [
              "(1, 32, 32, 32)"
            ]
          },
          "metadata": {},
          "execution_count": 17
        }
      ]
    },
    {
      "cell_type": "code",
      "source": [
        "class MR(tf.keras.Model):\n",
        "  \n",
        "  def __init__(self):\n",
        "    super(MR, self).__init__()\n",
        "    self.cnn = tf.keras.Sequential([\n",
        "        tfl.InputLayer(input_shape=(32,32,32,1)),\n",
        "        tfl.Conv3D(filters = 32, kernel_size= 3, strides=(2,2,2), padding='same', activation= 'relu'),\n",
        "        tfl.MaxPooling3D(pool_size=(2,2,2), strides = None, padding ='valid'),\n",
        "        tfl.Conv3D(filters = 64, kernel_size= 3, strides=(2,2,2), padding='same', activation= 'relu'),\n",
        "        tfl.Flatten(),\n",
        "        tfl.Dense(80, activation= 'relu'),\n",
        "        tfl.Dense(30, activation = 'relu'),\n",
        "        tfl.Dense(in_dim, activation= 'linear')\n",
        "    ])\n",
        "\n",
        "def call(self, x):\n",
        "  cnnop = self.cnn(x)\n",
        "  return cnnop\n"
      ],
      "metadata": {
        "id": "BFPgraoSFFLI"
      },
      "execution_count": 25,
      "outputs": []
    },
    {
      "cell_type": "code",
      "source": [],
      "metadata": {
        "id": "Pw07mCS8U4Kr"
      },
      "execution_count": null,
      "outputs": []
    },
    {
      "cell_type": "code",
      "source": [],
      "metadata": {
        "id": "fdmbpIxvL9Mh"
      },
      "execution_count": null,
      "outputs": []
    }
  ]
}
