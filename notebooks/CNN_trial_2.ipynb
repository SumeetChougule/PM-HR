{
  "nbformat": 4,
  "nbformat_minor": 0,
  "metadata": {
    "colab": {
      "provenance": [],
      "collapsed_sections": [],
      "authorship_tag": "ABX9TyMpilmSa0fVZl1swo0EWoti",
      "include_colab_link": true
    },
    "kernelspec": {
      "name": "python3",
      "display_name": "Python 3"
    },
    "language_info": {
      "name": "python"
    },
    "accelerator": "GPU",
    "gpuClass": "standard"
  },
  "cells": [
    {
      "cell_type": "markdown",
      "metadata": {
        "id": "view-in-github",
        "colab_type": "text"
      },
      "source": [
        "<a href=\"https://colab.research.google.com/github/SumeetChougule/PM-HR/blob/main/notebooks/CNN_trial_2.ipynb\" target=\"_parent\"><img src=\"https://colab.research.google.com/assets/colab-badge.svg\" alt=\"Open In Colab\"/></a>"
      ]
    },
    {
      "cell_type": "code",
      "source": [
        "!git clone https://github.com/DifferentiableUniverseInitiative/flowpm.git"
      ],
      "metadata": {
        "id": "0cF4iA6gTKno"
      },
      "execution_count": null,
      "outputs": []
    },
    {
      "cell_type": "code",
      "source": [
        "!pip install git+https://github.com/DifferentiableUniverseInitiative/flowpm.git"
      ],
      "metadata": {
        "id": "2gGNrQLxTSGB"
      },
      "execution_count": null,
      "outputs": []
    },
    {
      "cell_type": "code",
      "execution_count": null,
      "metadata": {
        "id": "qCRUeAeCEaHf"
      },
      "outputs": [],
      "source": [
        "import tensorflow as tf\n",
        "import numpy as np\n",
        "import matplotlib.pyplot as plt\n",
        "import tensorflow.keras.layers as tfl\n",
        "config = tf.compat.v1.ConfigProto()\n",
        "config.gpu_options.allow_growth = True\n",
        "session = tf.compat.v1.Session(config=config)\n",
        "from tensorflow.keras import datasets, layers, models, losses\n",
        "\n",
        "import tensorflow_probability as tfp\n",
        "tfd = tfp.distributions"
      ]
    },
    {
      "cell_type": "markdown",
      "source": [
        "# Input data from PM\n",
        "\n"
      ],
      "metadata": {
        "id": "08xexuzCFHCf"
      }
    },
    {
      "cell_type": "code",
      "source": [
        "import flowpm\n",
        "from astropy.cosmology import Planck15\n",
        "from flowpm import linear_field, lpt_init, nbody, cic_paint, cic_readout\n",
        "from flowpm.utils import r2c3d, c2r3d\n",
        "\n",
        "from scipy.interpolate import InterpolatedUnivariateSpline as iuspline\n"
      ],
      "metadata": {
        "id": "KtQITZWoD3At"
      },
      "execution_count": null,
      "outputs": []
    },
    {
      "cell_type": "code",
      "source": [
        "bs, nc = 100, 32\n",
        "nsteps = 5\n",
        "a0, af, nsteps = 0.1, 1.0,  nsteps\n",
        "stages = np.linspace(a0, af, nsteps, endpoint=True)\n",
        "donbody = False\n",
        "dnoise = 1. #0.1\n",
        "\n",
        "klin, plin = np.loadtxt('flowpm/flowpm/data/Planck15_a1p00.txt').T\n",
        "ipklin = iuspline(klin, plin)"
      ],
      "metadata": {
        "id": "GGvAuICUE8hX"
      },
      "execution_count": null,
      "outputs": []
    },
    {
      "cell_type": "code",
      "source": [
        "@tf.function\n",
        "def pm(linear):\n",
        "    print(\"PM graph\")\n",
        "    cosmo = flowpm.cosmology.Planck15()\n",
        "    state = lpt_init(cosmo, linear, a=a0, order=2)\n",
        "    final_state = nbody(cosmo, state,  stages, nc)\n",
        "    tfinal_field = cic_paint(tf.zeros_like(linear), final_state[0])\n",
        "    return final_state, tfinal_field"
      ],
      "metadata": {
        "id": "xs93aVf0U5hO"
      },
      "execution_count": null,
      "outputs": []
    },
    {
      "cell_type": "code",
      "source": [
        "ic = linear_field(nc, bs, ipklin, name='pm').numpy()\n",
        "state, fin = pm(tf.constant(ic))\n",
        "data = fin + np.random.normal(0, dnoise, nc**3).reshape(fin.shape)\n",
        "\n",
        "data = data.numpy().astype(np.float32)"
      ],
      "metadata": {
        "colab": {
          "base_uri": "https://localhost:8080/"
        },
        "id": "haC4S0C-VIiY",
        "outputId": "38ea0308-e085-48d7-fd2b-e25d2ba15d49"
      },
      "execution_count": null,
      "outputs": [
        {
          "output_type": "stream",
          "name": "stdout",
          "text": [
            "PM graph\n"
          ]
        }
      ]
    },
    {
      "cell_type": "code",
      "source": [
        "state.shape"
      ],
      "metadata": {
        "colab": {
          "base_uri": "https://localhost:8080/"
        },
        "id": "2RXlhgE1D6l1",
        "outputId": "83e76a28-fa4a-412a-942d-35e09cf2a30f"
      },
      "execution_count": null,
      "outputs": [
        {
          "output_type": "execute_result",
          "data": {
            "text/plain": [
              "TensorShape([3, 1, 32768, 3])"
            ]
          },
          "metadata": {},
          "execution_count": 11
        }
      ]
    },
    {
      "cell_type": "markdown",
      "source": [
        "CNN $→$ CIC_readout $→$ Flatten $→ MLP $"
      ],
      "metadata": {
        "id": "BZxfNC5ZTtIN"
      }
    },
    {
      "cell_type": "code",
      "source": [
        "def cnn_model(input_shape):\n",
        "    model = tf.keras.Sequential([\n",
        "        tfl.InputLayer(input_shape= input_shape),\n",
        "        tfl.Conv3D(filters = 32, kernel_size= 3, strides=(2,2,2), padding='same', activation= 'relu'),\n",
        "        tfl.MaxPooling3D(pool_size=(2,2,2), strides = None, padding ='valid'),\n",
        "        tfl.Conv3D(filters = 64, kernel_size= 3, strides=(2,2,2), padding='same', activation= 'relu'),\n",
        "        tfl.MaxPooling3D(pool_size=(3,3,3), strides = None, padding ='valid')\n",
        "        ])\n",
        "    return model\n",
        "\n",
        "cnn = cnn_model((nc,nc,nc,1))"
      ],
      "metadata": {
        "id": "BFPgraoSFFLI"
      },
      "execution_count": null,
      "outputs": []
    },
    {
      "cell_type": "code",
      "source": [
        "cnn_op=cnn(data).numpy().astype(np.float32)"
      ],
      "metadata": {
        "id": "Kduf_RacF6zE"
      },
      "execution_count": null,
      "outputs": []
    },
    {
      "cell_type": "code",
      "source": [
        "cnn_op.shape"
      ],
      "metadata": {
        "colab": {
          "base_uri": "https://localhost:8080/"
        },
        "id": "_rqQmCLWGFwK",
        "outputId": "49cc1be5-9719-45d8-c1b1-f82a3de6a040"
      },
      "execution_count": null,
      "outputs": [
        {
          "output_type": "execute_result",
          "data": {
            "text/plain": [
              "(1, 1, 1, 1, 64)"
            ]
          },
          "metadata": {},
          "execution_count": 66
        }
      ]
    },
    {
      "cell_type": "code",
      "source": [
        "cnn.summary()"
      ],
      "metadata": {
        "colab": {
          "base_uri": "https://localhost:8080/"
        },
        "id": "D15KNj4mqj3P",
        "outputId": "d9da0bf9-02f1-4f81-f439-9e1ae21f2a3b"
      },
      "execution_count": null,
      "outputs": [
        {
          "output_type": "stream",
          "name": "stdout",
          "text": [
            "Model: \"sequential_7\"\n",
            "_________________________________________________________________\n",
            " Layer (type)                Output Shape              Param #   \n",
            "=================================================================\n",
            " conv3d_16 (Conv3D)          (None, 16, 16, 16, 32)    896       \n",
            "                                                                 \n",
            " max_pooling3d_12 (MaxPoolin  (None, 8, 8, 8, 32)      0         \n",
            " g3D)                                                            \n",
            "                                                                 \n",
            " conv3d_17 (Conv3D)          (None, 4, 4, 4, 64)       55360     \n",
            "                                                                 \n",
            " max_pooling3d_13 (MaxPoolin  (None, 1, 1, 1, 64)      0         \n",
            " g3D)                                                            \n",
            "                                                                 \n",
            "=================================================================\n",
            "Total params: 56,256\n",
            "Trainable params: 56,256\n",
            "Non-trainable params: 0\n",
            "_________________________________________________________________\n"
          ]
        }
      ]
    },
    {
      "cell_type": "markdown",
      "source": [
        "Interpolation of CNN output"
      ],
      "metadata": {
        "id": "zsF6hPnHLCCg"
      }
    },
    {
      "cell_type": "code",
      "source": [
        "mesh = tf.zeros([1, nc, nc, nc])\n",
        "p_pos = cic_readout(  , state)\n",
        "MLP_ip = tfl.Flatten()(p_pos)"
      ],
      "metadata": {
        "id": "pIbvSdDQyIe_"
      },
      "execution_count": null,
      "outputs": []
    },
    {
      "cell_type": "markdown",
      "source": [
        "Need to fix the shape out CNN output for the cic_readout."
      ],
      "metadata": {
        "id": "oPNzN2qzSKCz"
      }
    },
    {
      "cell_type": "code",
      "source": [
        "def MLP(x):\n",
        "  model = tf.keras.Sequential([\n",
        "      tfl.InputLayer(input_shape = meshf.shape),\n",
        "      tfl.Dense(64, activation = 'relu'),\n",
        "      tfl.Dense(32, activation = 'relu'),\n",
        "# how many layers for the output?      \n",
        "      tfl.Dense( x, activation = 'linear')\n",
        "  ])\n",
        "  return model \n",
        "\n",
        "f_op = MLP(x)"
      ],
      "metadata": {
        "id": "h9hHrx-L0GCO"
      },
      "execution_count": null,
      "outputs": []
    },
    {
      "cell_type": "code",
      "source": [
        "f_op.summary()"
      ],
      "metadata": {
        "id": "MixUOlvDIHk5"
      },
      "execution_count": null,
      "outputs": []
    },
    {
      "cell_type": "code",
      "source": [],
      "metadata": {
        "id": "c1HS24NAN4CO"
      },
      "execution_count": null,
      "outputs": []
    }
  ]
}