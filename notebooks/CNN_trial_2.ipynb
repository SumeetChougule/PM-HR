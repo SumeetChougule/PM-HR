{
  "nbformat": 4,
  "nbformat_minor": 0,
  "metadata": {
    "colab": {
      "provenance": [],
      "collapsed_sections": [],
      "authorship_tag": "ABX9TyPQpKMfirTAby+9NWJgNdHK",
      "include_colab_link": true
    },
    "kernelspec": {
      "name": "python3",
      "display_name": "Python 3"
    },
    "language_info": {
      "name": "python"
    },
    "accelerator": "GPU",
    "gpuClass": "standard"
  },
  "cells": [
    {
      "cell_type": "markdown",
      "metadata": {
        "id": "view-in-github",
        "colab_type": "text"
      },
      "source": [
        "<a href=\"https://colab.research.google.com/github/SumeetChougule/PM-HR/blob/main/CNN_trial_2.ipynb\" target=\"_parent\"><img src=\"https://colab.research.google.com/assets/colab-badge.svg\" alt=\"Open In Colab\"/></a>"
      ]
    },
    {
      "cell_type": "code",
      "source": [
        "!git clone https://github.com/DifferentiableUniverseInitiative/flowpm.git"
      ],
      "metadata": {
        "id": "0cF4iA6gTKno"
      },
      "execution_count": null,
      "outputs": []
    },
    {
      "cell_type": "code",
      "source": [
        "!pip install git+https://github.com/DifferentiableUniverseInitiative/flowpm.git"
      ],
      "metadata": {
        "id": "2gGNrQLxTSGB"
      },
      "execution_count": null,
      "outputs": []
    },
    {
      "cell_type": "code",
      "execution_count": 1,
      "metadata": {
        "id": "qCRUeAeCEaHf"
      },
      "outputs": [],
      "source": [
        "import tensorflow as tf\n",
        "import numpy as np\n",
        "import matplotlib.pyplot as plt\n",
        "import tensorflow.keras.layers as tfl\n",
        "config = tf.compat.v1.ConfigProto()\n",
        "config.gpu_options.allow_growth = True\n",
        "session = tf.compat.v1.Session(config=config)\n",
        "from tensorflow.keras import datasets, layers, models, losses\n",
        "\n",
        "import tensorflow_probability as tfp\n",
        "tfd = tfp.distributions"
      ]
    },
    {
      "cell_type": "markdown",
      "source": [
        "# Input data from PM\n",
        "\n"
      ],
      "metadata": {
        "id": "08xexuzCFHCf"
      }
    },
    {
      "cell_type": "code",
      "source": [
        "bs, nc = 100, 32\n",
        "nsteps = 5\n",
        "a0, af, nsteps = 0.1, 1.0,  nsteps\n",
        "stages = np.linspace(a0, af, nsteps, endpoint=True)\n",
        "donbody = False\n",
        "dnoise = 1. #0.1\n",
        "\n",
        "klin, plin = np.loadtxt('flowpm/flowpm/data/Planck15_a1p00.txt').T\n",
        "ipklin = iuspline(klin, plin)"
      ],
      "metadata": {
        "id": "GGvAuICUE8hX"
      },
      "execution_count": 6,
      "outputs": []
    },
    {
      "cell_type": "code",
      "source": [
        "@tf.function\n",
        "def pm(linear):\n",
        "    print(\"PM graph\")\n",
        "    cosmo = flowpm.cosmology.Planck15()\n",
        "    state = lpt_init(cosmo, linear, a=a0, order=2)\n",
        "    final_state = nbody(cosmo, state,  stages, nc)\n",
        "    tfinal_field = cic_paint(tf.zeros_like(linear), final_state[0])\n",
        "    return final_state, tfinal_field"
      ],
      "metadata": {
        "id": "xs93aVf0U5hO"
      },
      "execution_count": 7,
      "outputs": []
    },
    {
      "cell_type": "code",
      "source": [
        "ic = linear_field(nc, bs, ipklin, name='pm').numpy()\n",
        "state, fin = pm(tf.constant(ic))\n",
        "data = fin + np.random.normal(0, dnoise, nc**3).reshape(fin.shape)\n",
        "\n",
        "data = data.numpy().astype(np.float32)"
      ],
      "metadata": {
        "colab": {
          "base_uri": "https://localhost:8080/"
        },
        "id": "haC4S0C-VIiY",
        "outputId": "9c4054da-d415-49f1-8635-637a45326abb"
      },
      "execution_count": 8,
      "outputs": [
        {
          "output_type": "stream",
          "name": "stdout",
          "text": [
            "PM graph\n"
          ]
        }
      ]
    },
    {
      "cell_type": "code",
      "source": [
        "def cnn_model():\n",
        "    model = tf.keras.Sequential([\n",
        "        tfl.InputLayer(input_shape=(32,32,3)),\n",
        "        tfl.Conv2D(filters = 32, kernel_size= 3, strides=(2,2), padding='same', activation= 'relu'),\n",
        "        tfl.MaxPooling2D(pool_size=(2,2), strides = None, padding ='valid'),\n",
        "        tfl.Conv2D(filters = 64, kernel_size= 3, strides=(2,2), padding='same', activation= 'relu'),\n",
        "        tfl.Flatten(),\n",
        "        tfl.Dense(80, activation= 'relu'),\n",
        "        tfl.Dense(30, activation = 'relu')\n",
        "        ])\n",
        "    return model\n",
        "\n",
        "cnn = cnn_model()"
      ],
      "metadata": {
        "id": "BFPgraoSFFLI"
      },
      "execution_count": 2,
      "outputs": []
    },
    {
      "cell_type": "code",
      "source": [
        "cnn.summary()"
      ],
      "metadata": {
        "colab": {
          "base_uri": "https://localhost:8080/"
        },
        "id": "D15KNj4mqj3P",
        "outputId": "cea1d418-852f-488f-bbdb-1c15d69f1098"
      },
      "execution_count": 3,
      "outputs": [
        {
          "output_type": "stream",
          "name": "stdout",
          "text": [
            "Model: \"sequential\"\n",
            "_________________________________________________________________\n",
            " Layer (type)                Output Shape              Param #   \n",
            "=================================================================\n",
            " conv2d (Conv2D)             (None, 16, 16, 32)        896       \n",
            "                                                                 \n",
            " max_pooling2d (MaxPooling2D  (None, 8, 8, 32)         0         \n",
            " )                                                               \n",
            "                                                                 \n",
            " conv2d_1 (Conv2D)           (None, 4, 4, 64)          18496     \n",
            "                                                                 \n",
            " flatten (Flatten)           (None, 1024)              0         \n",
            "                                                                 \n",
            " dense (Dense)               (None, 80)                82000     \n",
            "                                                                 \n",
            " dense_1 (Dense)             (None, 30)                2430      \n",
            "                                                                 \n",
            "=================================================================\n",
            "Total params: 103,822\n",
            "Trainable params: 103,822\n",
            "Non-trainable params: 0\n",
            "_________________________________________________________________\n"
          ]
        }
      ]
    },
    {
      "cell_type": "code",
      "source": [
        "cnn.compile(optimizer='adam',\n",
        "              loss=tf.keras.losses.SparseCategoricalCrossentropy(from_logits=True),\n",
        "              metrics=['accuracy'])\n",
        "\n"
      ],
      "metadata": {
        "id": "pIbvSdDQyIe_"
      },
      "execution_count": 4,
      "outputs": []
    },
    {
      "cell_type": "code",
      "source": [],
      "metadata": {
        "id": "h9hHrx-L0GCO"
      },
      "execution_count": null,
      "outputs": []
    }
  ]
}
