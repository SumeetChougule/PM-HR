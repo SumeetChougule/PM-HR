{
  "nbformat": 4,
  "nbformat_minor": 0,
  "metadata": {
    "colab": {
      "provenance": [],
      "authorship_tag": "ABX9TyNWD8T3QpFKEeoKBVlEmTaH",
      "include_colab_link": true
    },
    "kernelspec": {
      "name": "python3",
      "display_name": "Python 3"
    },
    "language_info": {
      "name": "python"
    }
  },
  "cells": [
    {
      "cell_type": "markdown",
      "metadata": {
        "id": "view-in-github",
        "colab_type": "text"
      },
      "source": [
        "<a href=\"https://colab.research.google.com/github/SumeetChougule/PM-HR/blob/main/notebooks/Force_correction.ipynb\" target=\"_parent\"><img src=\"https://colab.research.google.com/assets/colab-badge.svg\" alt=\"Open In Colab\"/></a>"
      ]
    },
    {
      "cell_type": "markdown",
      "source": [
        "## Git clone"
      ],
      "metadata": {
        "id": "e8H3GF0n-cZq"
      }
    },
    {
      "cell_type": "code",
      "source": [
        "!git clone https://github.com/DifferentiableUniverseInitiative/flowpm.git\n",
        "!pip install git+https://github.com/DifferentiableUniverseInitiative/flowpm.git"
      ],
      "metadata": {
        "colab": {
          "base_uri": "https://localhost:8080/"
        },
        "id": "hNxFrbWq9yTo",
        "outputId": "8003bf7f-df12-492a-b14b-37c41d9372c7"
      },
      "execution_count": 5,
      "outputs": [
        {
          "output_type": "stream",
          "name": "stdout",
          "text": [
            "Cloning into 'flowpm'...\n",
            "remote: Enumerating objects: 3470, done.\u001b[K\n",
            "remote: Counting objects: 100% (1315/1315), done.\u001b[K\n",
            "remote: Compressing objects: 100% (463/463), done.\u001b[K\n",
            "remote: Total 3470 (delta 855), reused 1230 (delta 832), pack-reused 2155\u001b[K\n",
            "Receiving objects: 100% (3470/3470), 65.55 MiB | 22.75 MiB/s, done.\n",
            "Resolving deltas: 100% (2284/2284), done.\n",
            "Looking in indexes: https://pypi.org/simple, https://us-python.pkg.dev/colab-wheels/public/simple/\n",
            "Collecting git+https://github.com/DifferentiableUniverseInitiative/flowpm.git\n",
            "  Cloning https://github.com/DifferentiableUniverseInitiative/flowpm.git to /tmp/pip-req-build-4fxxlwm8\n",
            "  Running command git clone -q https://github.com/DifferentiableUniverseInitiative/flowpm.git /tmp/pip-req-build-4fxxlwm8\n",
            "Requirement already satisfied: astropy in /usr/local/lib/python3.7/dist-packages (from flowpm==0.1.2.dev252+g8f9415b) (4.3.1)\n",
            "Requirement already satisfied: scipy in /usr/local/lib/python3.7/dist-packages (from flowpm==0.1.2.dev252+g8f9415b) (1.7.3)\n",
            "Collecting mesh-tensorflow\n",
            "  Downloading mesh_tensorflow-0.1.21-py3-none-any.whl (385 kB)\n",
            "\u001b[K     |████████████████████████████████| 385 kB 4.0 MB/s \n",
            "\u001b[?25hRequirement already satisfied: tensorflow_probability in /usr/local/lib/python3.7/dist-packages (from flowpm==0.1.2.dev252+g8f9415b) (0.16.0)\n",
            "Collecting bigfile\n",
            "  Downloading bigfile-0.1.51.tar.gz (221 kB)\n",
            "\u001b[K     |████████████████████████████████| 221 kB 58.1 MB/s \n",
            "\u001b[?25hCollecting tensorflow_addons\n",
            "  Downloading tensorflow_addons-0.17.1-cp37-cp37m-manylinux_2_17_x86_64.manylinux2014_x86_64.whl (1.1 MB)\n",
            "\u001b[K     |████████████████████████████████| 1.1 MB 45.3 MB/s \n",
            "\u001b[?25hRequirement already satisfied: importlib-metadata in /usr/local/lib/python3.7/dist-packages (from astropy->flowpm==0.1.2.dev252+g8f9415b) (4.12.0)\n",
            "Requirement already satisfied: pyerfa>=1.7.3 in /usr/local/lib/python3.7/dist-packages (from astropy->flowpm==0.1.2.dev252+g8f9415b) (2.0.0.1)\n",
            "Requirement already satisfied: numpy>=1.17 in /usr/local/lib/python3.7/dist-packages (from astropy->flowpm==0.1.2.dev252+g8f9415b) (1.21.6)\n",
            "Requirement already satisfied: cython in /usr/local/lib/python3.7/dist-packages (from bigfile->flowpm==0.1.2.dev252+g8f9415b) (0.29.32)\n",
            "Requirement already satisfied: typing-extensions>=3.6.4 in /usr/local/lib/python3.7/dist-packages (from importlib-metadata->astropy->flowpm==0.1.2.dev252+g8f9415b) (4.1.1)\n",
            "Requirement already satisfied: zipp>=0.5 in /usr/local/lib/python3.7/dist-packages (from importlib-metadata->astropy->flowpm==0.1.2.dev252+g8f9415b) (3.8.1)\n",
            "Requirement already satisfied: six in /usr/local/lib/python3.7/dist-packages (from mesh-tensorflow->flowpm==0.1.2.dev252+g8f9415b) (1.15.0)\n",
            "Requirement already satisfied: gin-config in /usr/local/lib/python3.7/dist-packages (from mesh-tensorflow->flowpm==0.1.2.dev252+g8f9415b) (0.5.0)\n",
            "Requirement already satisfied: absl-py in /usr/local/lib/python3.7/dist-packages (from mesh-tensorflow->flowpm==0.1.2.dev252+g8f9415b) (1.2.0)\n",
            "Requirement already satisfied: future in /usr/local/lib/python3.7/dist-packages (from mesh-tensorflow->flowpm==0.1.2.dev252+g8f9415b) (0.16.0)\n",
            "Requirement already satisfied: packaging in /usr/local/lib/python3.7/dist-packages (from tensorflow_addons->flowpm==0.1.2.dev252+g8f9415b) (21.3)\n",
            "Requirement already satisfied: typeguard>=2.7 in /usr/local/lib/python3.7/dist-packages (from tensorflow_addons->flowpm==0.1.2.dev252+g8f9415b) (2.7.1)\n",
            "Requirement already satisfied: pyparsing!=3.0.5,>=2.0.2 in /usr/local/lib/python3.7/dist-packages (from packaging->tensorflow_addons->flowpm==0.1.2.dev252+g8f9415b) (3.0.9)\n",
            "Requirement already satisfied: gast>=0.3.2 in /usr/local/lib/python3.7/dist-packages (from tensorflow_probability->flowpm==0.1.2.dev252+g8f9415b) (0.5.3)\n",
            "Requirement already satisfied: dm-tree in /usr/local/lib/python3.7/dist-packages (from tensorflow_probability->flowpm==0.1.2.dev252+g8f9415b) (0.1.7)\n",
            "Requirement already satisfied: decorator in /usr/local/lib/python3.7/dist-packages (from tensorflow_probability->flowpm==0.1.2.dev252+g8f9415b) (4.4.2)\n",
            "Requirement already satisfied: cloudpickle>=1.3 in /usr/local/lib/python3.7/dist-packages (from tensorflow_probability->flowpm==0.1.2.dev252+g8f9415b) (1.5.0)\n",
            "Building wheels for collected packages: flowpm, bigfile\n",
            "  Building wheel for flowpm (setup.py) ... \u001b[?25l\u001b[?25hdone\n",
            "  Created wheel for flowpm: filename=flowpm-0.1.2.dev252+g8f9415b-py3-none-any.whl size=45196 sha256=5508f3e8a2fc48f8f44d801b5799bb43abd5bed29f007239248bbd92a92db229\n",
            "  Stored in directory: /tmp/pip-ephem-wheel-cache-hvwr0uc0/wheels/62/64/5f/3dd430bb0fd93140aa11dda1ffbb7a9c3cffb9a3743c997423\n",
            "  Building wheel for bigfile (setup.py) ... \u001b[?25l\u001b[?25hdone\n",
            "  Created wheel for bigfile: filename=bigfile-0.1.51-cp37-cp37m-linux_x86_64.whl size=568146 sha256=ea735f2118ff420c2aa3e5742a1a3b54bec08d1c2fa58125375d19a10dfa2192\n",
            "  Stored in directory: /root/.cache/pip/wheels/c9/ab/78/57cbebe09989dfe163e7bfc952dcd8a08f8a71c70166c6135a\n",
            "Successfully built flowpm bigfile\n",
            "Installing collected packages: tensorflow-addons, mesh-tensorflow, bigfile, flowpm\n",
            "Successfully installed bigfile-0.1.51 flowpm-0.1.2.dev252+g8f9415b mesh-tensorflow-0.1.21 tensorflow-addons-0.17.1\n"
          ]
        }
      ]
    },
    {
      "cell_type": "markdown",
      "source": [
        "## Modules"
      ],
      "metadata": {
        "id": "c74P_0jk-iFH"
      }
    },
    {
      "cell_type": "code",
      "execution_count": 29,
      "metadata": {
        "id": "cOvtyEZl9VCs"
      },
      "outputs": [],
      "source": [
        "import tensorflow as tf\n",
        "import numpy as np\n",
        "import matplotlib.pyplot as plt\n",
        "import tensorflow.keras.layers as tfl\n",
        "config = tf.compat.v1.ConfigProto()\n",
        "config.gpu_options.allow_growth = True\n",
        "session = tf.compat.v1.Session(config=config)\n",
        "from tensorflow.keras import datasets, layers, models, losses\n",
        "\n",
        "import tensorflow_probability as tfp\n",
        "tfd = tfp.distributions\n",
        "\n",
        "import flowpm\n",
        "from astropy.cosmology import Planck15\n",
        "from flowpm import linear_field, lpt_init, nbody, cic_paint, cic_readout\n",
        "from flowpm.utils import r2c3d, c2r3d\n",
        "\n",
        "from scipy.interpolate import InterpolatedUnivariateSpline as iuspline\n",
        "\n",
        "import pandas as pd"
      ]
    },
    {
      "cell_type": "markdown",
      "source": [
        "## Input data from PM\n"
      ],
      "metadata": {
        "id": "ITWZkqLi-z2W"
      }
    },
    {
      "cell_type": "code",
      "source": [
        "bs, nc = 100, 32\n",
        "nsteps = 5\n",
        "a0, af, nsteps = 0.1, 1.0,  nsteps\n",
        "stages = np.linspace(a0, af, nsteps, endpoint=True)\n",
        "donbody = False\n",
        "dnoise = 1. #0.1\n",
        "\n",
        "klin, plin = np.loadtxt('flowpm/flowpm/data/Planck15_a1p00.txt').T\n",
        "ipklin = iuspline(klin, plin)"
      ],
      "metadata": {
        "id": "4lE9FYWt-8HO"
      },
      "execution_count": 91,
      "outputs": []
    },
    {
      "cell_type": "code",
      "source": [
        "@tf.function\n",
        "def pm(linear):\n",
        "    print(\"PM graph\")\n",
        "    cosmo = flowpm.cosmology.Planck15()\n",
        "    state = lpt_init(cosmo, linear, a=a0, order=2)\n",
        "    final_state = nbody(cosmo, state,  stages, nc)\n",
        "    tfinal_field = cic_paint(tf.zeros_like(linear), final_state[0])\n",
        "    return final_state, tfinal_field\n",
        "\n",
        "ic = linear_field(nc, bs, ipklin, name='pm').numpy()\n",
        "state, fin = pm(tf.constant(ic))\n",
        "pos = state[0].numpy()\n"
      ],
      "metadata": {
        "colab": {
          "base_uri": "https://localhost:8080/"
        },
        "id": "l4zFW78W-1_V",
        "outputId": "6fdd1ece-f145-47e0-d470-4b3e94cb98f9"
      },
      "execution_count": 92,
      "outputs": [
        {
          "output_type": "stream",
          "name": "stdout",
          "text": [
            "PM graph\n"
          ]
        }
      ]
    },
    {
      "cell_type": "markdown",
      "metadata": {
        "id": "D-KW4M3z4m81"
      },
      "source": [
        "### Helper functions"
      ]
    },
    {
      "cell_type": "code",
      "execution_count": 93,
      "metadata": {
        "id": "2fiyqjs84qOw"
      },
      "outputs": [],
      "source": [
        "def cic_readout_features(mesh, part, name=\"CiCReadout\"):\n",
        "  \"\"\"\n",
        "  Reads out particles from mesh.\n",
        "  Parameters: \n",
        "  ----------- \n",
        "  mesh: tensor (batch_size, nc, nc, nc, T)\n",
        "      Input 4D mesh tensor with last axis of T features\n",
        "  \n",
        "  part: tensor (batch_size, npart, 3)\n",
        "      List of 3D particle coordinates, assumed to be in mesh units if\n",
        "  boxsize is None\n",
        "  \n",
        "  Return:\n",
        "  -------\n",
        "  value: tensor (batch_size, npart) \n",
        "      Value of the field sampled at the particle locations\n",
        "  \"\"\"\n",
        "  with tf.name_scope(\"CiCReadoutFeatures\"):\n",
        "    mesh = tf.convert_to_tensor(mesh, name=\"mesh\")\n",
        "    part = tf.convert_to_tensor(part, name=\"part\")\n",
        "\n",
        "    shape = tf.shape(mesh)\n",
        "    batch_size, nx, ny, nz = shape[0], shape[1], shape[2], shape[3]\n",
        "    nc = [nx, ny, nz]\n",
        "\n",
        "    # Flatten part if it's not already done                                                                                                                                                                                                                                                                                   \n",
        "    if len(part.shape) > 3:\n",
        "      part = tf.reshape(part, (batch_size, -1, 3))\n",
        "\n",
        "    # Extract the indices of all the mesh points affected by each particles                                                                                                                                                                                                                                                   \n",
        "    part = tf.expand_dims(part, 2)\n",
        "    floor = tf.floor(part)\n",
        "    connection = tf.expand_dims(\n",
        "        tf.constant([[[0, 0, 0], [1., 0, 0], [0., 1, 0], [0., 0, 1],\n",
        "                      [1., 1, 0], [1., 0, 1], [0., 1, 1], [1., 1, 1]]]), 0)\n",
        "\n",
        "    neighboor_coords = tf.add(floor, connection)\n",
        "    kernel = 1. - tf.abs(part - neighboor_coords)\n",
        "    kernel = kernel[..., 0] * kernel[..., 1] * kernel[..., 2]\n",
        "\n",
        "    neighboor_coords = tf.cast(neighboor_coords, tf.int32)\n",
        "    neighboor_coords = tf.math.mod(neighboor_coords, nc)\n",
        "\n",
        "    meshvals = tf.gather_nd(mesh, neighboor_coords, batch_dims=1)\n",
        "    weightedvals = tf.multiply(meshvals, tf.expand_dims(kernel, -1))\n",
        "    value = tf.reduce_sum(weightedvals, axis=-2)\n",
        "    return value\n",
        "\n",
        "def fftk(shape, symmetric=True, finite=False, dtype=np.float64):\n",
        "    \"\"\" Return k_vector given a shape (nc, nc, nc) and box_size                                                                                                                                                                                                                                                                 \n",
        "    \"\"\"\n",
        "    k = []\n",
        "    for d in range(len(shape)):\n",
        "        kd = np.fft.fftfreq(shape[d])\n",
        "        kd *= 2 * np.pi\n",
        "        kdshape = np.ones(len(shape), dtype='int')\n",
        "        if symmetric and d == len(shape) - 1:\n",
        "            kd = kd[:shape[d] // 2 + 1]\n",
        "        kdshape[d] = len(kd)\n",
        "        kd = kd.reshape(kdshape)\n",
        "\n",
        "        k.append(kd.astype(dtype))\n",
        "    del kd, kdshape\n",
        "    return k\n",
        "\n",
        "\n",
        "def laplace_kernel(kvec):\n",
        "    kk = sum(ki**2 for ki in kvec)\n",
        "    mask = (kk == 0).nonzero()\n",
        "    kk[mask] = 1\n",
        "    wts = 1. / kk\n",
        "    imask = (~(kk == 0)).astype(int)\n",
        "    wts *= imask\n",
        "    return wts\n",
        " \n",
        " \n",
        "def gradient_kernel(kvec, direction, order=1):\n",
        "    print(direction)\n",
        "    wts = 1j * kvec[direction]\n",
        "    wts = np.squeeze(wts)\n",
        "    wts[len(wts) // 2] = 0\n",
        "    wts = wts.reshape(kvec[direction].shape)\n",
        "    return wts\n",
        "  \n",
        "\n",
        "def force(delta_k, x, factor=1):\n",
        "    \n",
        "\n",
        "    shape = delta_k.get_shape()\n",
        "    nc = shape[1:]\n",
        "\n",
        "    kvec = fftk(nc, symmetric=False)\n",
        "\n",
        "    ndim = 3\n",
        "    norm = nc[0] * nc[1] * nc[2]\n",
        "    lap = tf.cast(laplace_kernel(kvec), tf.complex64)\n",
        "    pot_k = tf.multiply(delta_k, lap)\n",
        "\n",
        "    f = []\n",
        "    for d in range(ndim):\n",
        "        force_dc = tf.multiply(pot_k, gradient_kernel(kvec, d))\n",
        "        forced = c2r3d(force_dc, norm=norm)\n",
        "        force = cic_readout(forced, x)\n",
        "        f.append(force)\n",
        "\n",
        "    f = tf.stack(f, axis=2)\n",
        "    f = tf.multiply(f, factor)\n",
        "    return f\n",
        "\n"
      ]
    },
    {
      "cell_type": "code",
      "execution_count": 93,
      "metadata": {
        "id": "8dyIL5uE0MUc"
      },
      "outputs": [],
      "source": []
    },
    {
      "cell_type": "markdown",
      "metadata": {
        "id": "ivxcVL-q_gSU"
      },
      "source": [
        "## Data"
      ]
    },
    {
      "cell_type": "code",
      "execution_count": 94,
      "metadata": {
        "colab": {
          "base_uri": "https://localhost:8080/"
        },
        "id": "b7-A2ftn_fcE",
        "outputId": "7e9ad0b1-bcb8-4cb2-ae2f-ef0d58915b2b"
      },
      "outputs": [
        {
          "output_type": "stream",
          "name": "stdout",
          "text": [
            "64\n",
            "0\n",
            "1\n",
            "2\n",
            "0\n",
            "1\n",
            "2\n"
          ]
        }
      ],
      "source": [
        "B = 2\n",
        "ncb = B*nc\n",
        "print(ncb)\n",
        "posb = pos*ncb/nc #convert to grid position of new mesh\n",
        "\n",
        "mesh = tf.zeros([1, nc, nc, nc])\n",
        "meshb = tf.zeros([1, ncb, ncb, ncb])\n",
        "\n",
        "mesh = cic_paint(mesh, pos)\n",
        "meshb = cic_paint(meshb, posb)\n",
        "\n",
        "f = force(r2c3d(mesh), pos)[0]\n",
        "fb = force(r2c3d(meshb), posb)[0]\n"
      ]
    },
    {
      "cell_type": "code",
      "source": [
        "f-fb"
      ],
      "metadata": {
        "colab": {
          "base_uri": "https://localhost:8080/"
        },
        "id": "tikMF-cC8tTI",
        "outputId": "1e4dc70c-8119-483e-b2b4-9026c3840b0e"
      },
      "execution_count": 96,
      "outputs": [
        {
          "output_type": "execute_result",
          "data": {
            "text/plain": [
              "<tf.Tensor: shape=(32768, 3), dtype=float32, numpy=\n",
              "array([[-1.8600725 , -1.170727  ,  0.92336935],\n",
              "       [-2.0343995 , -1.3540828 ,  0.8604572 ],\n",
              "       [-1.6967306 , -2.0074663 ,  0.14644316],\n",
              "       ...,\n",
              "       [-2.838324  , -0.6812401 , -0.41658807],\n",
              "       [-2.5678413 , -0.87642026, -0.09485602],\n",
              "       [-1.7008783 , -1.0793083 ,  0.71030766]], dtype=float32)>"
            ]
          },
          "metadata": {},
          "execution_count": 96
        }
      ]
    },
    {
      "cell_type": "code",
      "execution_count": 13,
      "metadata": {
        "colab": {
          "base_uri": "https://localhost:8080/"
        },
        "id": "gSvhegFoBbMs",
        "outputId": "b077420d-556e-42bf-d410-cd3b05b429f5"
      },
      "outputs": [
        {
          "output_type": "execute_result",
          "data": {
            "text/plain": [
              "<tf.Tensor: shape=(32768, 3), dtype=float32, numpy=\n",
              "array([[-2.7318504 ,  2.0853257 ,  3.871943  ],\n",
              "       [ 2.5451562 ,  0.5408219 , -4.225219  ],\n",
              "       [ 0.49211144,  0.2078676 , -4.2519045 ],\n",
              "       ...,\n",
              "       [-0.17287427,  0.89550316,  1.9564792 ],\n",
              "       [-1.5365229 ,  1.3333457 ,  2.9090033 ],\n",
              "       [-1.8431264 ,  2.184681  ,  3.0387163 ]], dtype=float32)>"
            ]
          },
          "metadata": {},
          "execution_count": 13
        }
      ],
      "source": [
        "f"
      ]
    },
    {
      "cell_type": "code",
      "execution_count": 15,
      "metadata": {
        "colab": {
          "base_uri": "https://localhost:8080/"
        },
        "id": "9UcZiG3pBKYW",
        "outputId": "38ddc89f-5256-412d-e7dd-1840f36440c9"
      },
      "outputs": [
        {
          "output_type": "execute_result",
          "data": {
            "text/plain": [
              "<tf.Tensor: shape=(32768, 3), dtype=float32, numpy=\n",
              "array([[-2.0345418 ,  1.600436  ,  2.7921472 ],\n",
              "       [ 0.58121586,  0.7320943 , -1.4713485 ],\n",
              "       [-0.08870852,  0.7692517 , -0.9414792 ],\n",
              "       ...,\n",
              "       [-0.20710084,  0.6789173 ,  1.484001  ],\n",
              "       [-1.0965004 ,  1.0356214 ,  2.13587   ],\n",
              "       [-1.0031018 ,  1.713943  ,  2.435813  ]], dtype=float32)>"
            ]
          },
          "metadata": {},
          "execution_count": 15
        }
      ],
      "source": [
        "f_diff = f-fb\n",
        "f_diff"
      ]
    },
    {
      "cell_type": "code",
      "execution_count": 16,
      "metadata": {
        "colab": {
          "base_uri": "https://localhost:8080/"
        },
        "id": "S_TsG8F_Jfq5",
        "outputId": "444c2f6a-02eb-4948-f4c8-a39f6d8abf4e"
      },
      "outputs": [
        {
          "output_type": "execute_result",
          "data": {
            "text/plain": [
              "TensorShape([32768, 3])"
            ]
          },
          "metadata": {},
          "execution_count": 16
        }
      ],
      "source": [
        "f_diff.shape"
      ]
    },
    {
      "cell_type": "code",
      "source": [
        "y_m = tf.gather(f_diff, 0, axis = 1)\n",
        "y   = tf.reshape(y_m, [32768, 1])"
      ],
      "metadata": {
        "id": "ne0dZIOBDW7x"
      },
      "execution_count": 17,
      "outputs": []
    },
    {
      "cell_type": "code",
      "source": [
        "dataset = tf.data.Dataset.from_tensor_slices(f, fb, f_diff)\n"
      ],
      "metadata": {
        "colab": {
          "base_uri": "https://localhost:8080/",
          "height": 171
        },
        "id": "oqZXHt0T9KoG",
        "outputId": "97ef8d9d-c1e5-4538-b53a-4ba2eec9ba78"
      },
      "execution_count": 97,
      "outputs": [
        {
          "output_type": "error",
          "ename": "TypeError",
          "evalue": "ignored",
          "traceback": [
            "\u001b[0;31m---------------------------------------------------------------------------\u001b[0m",
            "\u001b[0;31mTypeError\u001b[0m                                 Traceback (most recent call last)",
            "\u001b[0;32m<ipython-input-97-8202fddb6609>\u001b[0m in \u001b[0;36m<module>\u001b[0;34m\u001b[0m\n\u001b[0;32m----> 1\u001b[0;31m \u001b[0mdataset\u001b[0m \u001b[0;34m=\u001b[0m \u001b[0mtf\u001b[0m\u001b[0;34m.\u001b[0m\u001b[0mdata\u001b[0m\u001b[0;34m.\u001b[0m\u001b[0mDataset\u001b[0m\u001b[0;34m.\u001b[0m\u001b[0mfrom_tensor_slices\u001b[0m\u001b[0;34m(\u001b[0m\u001b[0mf\u001b[0m\u001b[0;34m,\u001b[0m \u001b[0mfb\u001b[0m\u001b[0;34m,\u001b[0m \u001b[0mf_diff\u001b[0m\u001b[0;34m)\u001b[0m\u001b[0;34m\u001b[0m\u001b[0;34m\u001b[0m\u001b[0m\n\u001b[0m",
            "\u001b[0;31mTypeError\u001b[0m: from_tensor_slices() takes from 1 to 2 positional arguments but 3 were given"
          ]
        }
      ]
    },
    {
      "cell_type": "markdown",
      "source": [
        "### Input"
      ],
      "metadata": {
        "id": "ehQwH3RSCDnB"
      }
    },
    {
      "cell_type": "code",
      "source": [
        "ip_m = tf.expand_dims(fin,-1)\n",
        "ip = ip_m.shape\n",
        "ip[1:]"
      ],
      "metadata": {
        "colab": {
          "base_uri": "https://localhost:8080/"
        },
        "id": "TZAe9coQCBW1",
        "outputId": "0fc0c45a-0b57-46a5-fdc1-873f22ca9a70"
      },
      "execution_count": 18,
      "outputs": [
        {
          "output_type": "execute_result",
          "data": {
            "text/plain": [
              "TensorShape([32, 32, 32, 1])"
            ]
          },
          "metadata": {},
          "execution_count": 18
        }
      ]
    },
    {
      "cell_type": "markdown",
      "source": [
        "## Model"
      ],
      "metadata": {
        "id": "3MG4WsklB1AS"
      }
    },
    {
      "cell_type": "code",
      "source": [
        "  input_data = tf.keras.Input(shape = ip[1:])\n",
        "  print(\"Shape of input:\", input_data.shape)\n",
        "  cnn1   = tfl.Conv3D(filters = 8, kernel_size= 3, strides=(1,1,1), padding='same', activation= 'relu',data_format='channels_last')(input_data)\n",
        "  print(\"Shape of cnn1:\", cnn1.shape)\n",
        "  cnn2   = tfl.Conv3D(filters = 4, kernel_size= 3, strides=(1,1,1), padding='same', activation= 'relu',data_format='channels_last')(cnn1)\n",
        "  print(\"Shape of cnn2:\", cnn2.shape)\n",
        "  p_pos  = cic_readout_features( cnn2 , pos)\n",
        "  print(\"Shape of particle position:\", p_pos.shape)\n",
        "  p_p    = tf.squeeze(p_pos)\n",
        "  print(\"Shape of MLP_input:\", p_p.shape)\n",
        "  MLP1   = tfl.Dense(64, activation = 'relu')(p_p)\n",
        "  print(\"Shape of MLP1:\", MLP1.shape)\n",
        "  MLP2   = tfl.Dense(32, activation = 'relu')(MLP1)\n",
        "  print(\"Shape of MLP2:\", MLP2.shape)\n",
        "  out    = tfl.Dense( 3, activation = 'linear')(MLP2)\n",
        "  print(\"Shape of output:\", out.shape)\n",
        "\n",
        "  model = tf.keras.Model(inputs = input_data, outputs = out)"
      ],
      "metadata": {
        "colab": {
          "base_uri": "https://localhost:8080/"
        },
        "id": "BIn_83J7Bz9c",
        "outputId": "17719690-b869-4d96-862c-adb193713ed0"
      },
      "execution_count": 19,
      "outputs": [
        {
          "output_type": "stream",
          "name": "stdout",
          "text": [
            "Shape of input: (None, 32, 32, 32, 1)\n",
            "Shape of cnn1: (None, 32, 32, 32, 8)\n",
            "Shape of cnn2: (None, 32, 32, 32, 4)\n",
            "Shape of particle position: (1, 32768, 4)\n",
            "Shape of MLP_input: (32768, 4)\n",
            "Shape of MLP1: (32768, 64)\n",
            "Shape of MLP2: (32768, 32)\n",
            "Shape of output: (32768, 3)\n"
          ]
        }
      ]
    },
    {
      "cell_type": "markdown",
      "source": [
        "### Forward prop"
      ],
      "metadata": {
        "id": "30niasZZCg2x"
      }
    },
    {
      "cell_type": "code",
      "source": [
        "o = model(ip_m)\n",
        "o.shape"
      ],
      "metadata": {
        "colab": {
          "base_uri": "https://localhost:8080/"
        },
        "id": "tkNDbcWACiqv",
        "outputId": "4dc5a0f6-a3b7-4b61-a456-f7665a06ef93"
      },
      "execution_count": 21,
      "outputs": [
        {
          "output_type": "execute_result",
          "data": {
            "text/plain": [
              "TensorShape([32768, 3])"
            ]
          },
          "metadata": {},
          "execution_count": 21
        }
      ]
    },
    {
      "cell_type": "markdown",
      "source": [
        "### GradientTape"
      ],
      "metadata": {
        "id": "Os1er8lH8-0B"
      }
    },
    {
      "cell_type": "code",
      "source": [
        "# Optimizer\n",
        "optimizer = tf.keras.optimizers.SGD(1e-3)\n",
        "# Loss Fn\n",
        "loss_fn = losses.MeanSquaredError()\n",
        "\n",
        "#Training dataset\n",
        "batch_size = 1\n",
        "x_train, y_train = ip_m, y\n",
        "\n",
        "#train_dataset = tf.data.Dataset.from_tensor_slices((x_train, y_train))\n"
      ],
      "metadata": {
        "id": "NTXvMAWp880i"
      },
      "execution_count": 22,
      "outputs": []
    },
    {
      "cell_type": "code",
      "source": [
        "epochs = 10\n",
        "loss = []\n",
        "for epoch in range(epochs):\n",
        "  print(\"\\nStart of epoch %d\" % (epoch,))\n",
        "\n",
        "  with tf.GradientTape() as tape:\n",
        "    logits = model(x_train, training=True)\n",
        "\n",
        "    loss_value = loss_fn(y_train, logits)\n",
        "    loss.append(loss_value.numpy)\n",
        "\n",
        "  grads = tape.gradient(loss_value, model.trainable_weights)\n",
        "  optimizer.apply_gradients(zip(grads, model.trainable_weights))\n",
        "\n",
        "  print(epoch, float(loss_value))"
      ],
      "metadata": {
        "colab": {
          "base_uri": "https://localhost:8080/"
        },
        "id": "1b9r32thAAga",
        "outputId": "4e88a4f8-c3dd-49f1-d516-a0d86da39e67"
      },
      "execution_count": 89,
      "outputs": [
        {
          "output_type": "stream",
          "name": "stdout",
          "text": [
            "\n",
            "Start of epoch 0\n",
            "0 2.0042080879211426\n",
            "\n",
            "Start of epoch 1\n",
            "1 2.001850128173828\n",
            "\n",
            "Start of epoch 2\n",
            "2 1.9994858503341675\n",
            "\n",
            "Start of epoch 3\n",
            "3 1.9971123933792114\n",
            "\n",
            "Start of epoch 4\n",
            "4 1.9947329759597778\n",
            "\n",
            "Start of epoch 5\n",
            "5 1.9923477172851562\n",
            "\n",
            "Start of epoch 6\n",
            "6 1.9899582862854004\n",
            "\n",
            "Start of epoch 7\n",
            "7 1.9875900745391846\n",
            "\n",
            "Start of epoch 8\n",
            "8 1.9852333068847656\n",
            "\n",
            "Start of epoch 9\n",
            "9 1.9828652143478394\n"
          ]
        }
      ]
    },
    {
      "cell_type": "code",
      "source": [
        "plt.plot( epochs, loss)\n",
        "plt.legend()\n",
        "plt.show()\n"
      ],
      "metadata": {
        "colab": {
          "base_uri": "https://localhost:8080/",
          "height": 613
        },
        "id": "5ukLPNEB46-A",
        "outputId": "270049e2-500f-479c-9428-fed436b5e79b"
      },
      "execution_count": 90,
      "outputs": [
        {
          "output_type": "error",
          "ename": "ValueError",
          "evalue": "ignored",
          "traceback": [
            "\u001b[0;31m---------------------------------------------------------------------------\u001b[0m",
            "\u001b[0;31mValueError\u001b[0m                                Traceback (most recent call last)",
            "\u001b[0;32m<ipython-input-90-fdf431f2b321>\u001b[0m in \u001b[0;36m<module>\u001b[0;34m\u001b[0m\n\u001b[0;32m----> 1\u001b[0;31m \u001b[0mplt\u001b[0m\u001b[0;34m.\u001b[0m\u001b[0mplot\u001b[0m\u001b[0;34m(\u001b[0m \u001b[0mepochs\u001b[0m\u001b[0;34m,\u001b[0m \u001b[0mloss\u001b[0m\u001b[0;34m)\u001b[0m\u001b[0;34m\u001b[0m\u001b[0;34m\u001b[0m\u001b[0m\n\u001b[0m\u001b[1;32m      2\u001b[0m \u001b[0mplt\u001b[0m\u001b[0;34m.\u001b[0m\u001b[0mlegend\u001b[0m\u001b[0;34m(\u001b[0m\u001b[0;34m)\u001b[0m\u001b[0;34m\u001b[0m\u001b[0;34m\u001b[0m\u001b[0m\n\u001b[1;32m      3\u001b[0m \u001b[0mplt\u001b[0m\u001b[0;34m.\u001b[0m\u001b[0mshow\u001b[0m\u001b[0;34m(\u001b[0m\u001b[0;34m)\u001b[0m\u001b[0;34m\u001b[0m\u001b[0;34m\u001b[0m\u001b[0m\n",
            "\u001b[0;32m/usr/local/lib/python3.7/dist-packages/matplotlib/pyplot.py\u001b[0m in \u001b[0;36mplot\u001b[0;34m(scalex, scaley, data, *args, **kwargs)\u001b[0m\n\u001b[1;32m   2761\u001b[0m     return gca().plot(\n\u001b[1;32m   2762\u001b[0m         *args, scalex=scalex, scaley=scaley, **({\"data\": data} if data\n\u001b[0;32m-> 2763\u001b[0;31m         is not None else {}), **kwargs)\n\u001b[0m\u001b[1;32m   2764\u001b[0m \u001b[0;34m\u001b[0m\u001b[0m\n\u001b[1;32m   2765\u001b[0m \u001b[0;34m\u001b[0m\u001b[0m\n",
            "\u001b[0;32m/usr/local/lib/python3.7/dist-packages/matplotlib/axes/_axes.py\u001b[0m in \u001b[0;36mplot\u001b[0;34m(self, scalex, scaley, data, *args, **kwargs)\u001b[0m\n\u001b[1;32m   1645\u001b[0m         \"\"\"\n\u001b[1;32m   1646\u001b[0m         \u001b[0mkwargs\u001b[0m \u001b[0;34m=\u001b[0m \u001b[0mcbook\u001b[0m\u001b[0;34m.\u001b[0m\u001b[0mnormalize_kwargs\u001b[0m\u001b[0;34m(\u001b[0m\u001b[0mkwargs\u001b[0m\u001b[0;34m,\u001b[0m \u001b[0mmlines\u001b[0m\u001b[0;34m.\u001b[0m\u001b[0mLine2D\u001b[0m\u001b[0;34m)\u001b[0m\u001b[0;34m\u001b[0m\u001b[0;34m\u001b[0m\u001b[0m\n\u001b[0;32m-> 1647\u001b[0;31m         \u001b[0mlines\u001b[0m \u001b[0;34m=\u001b[0m \u001b[0;34m[\u001b[0m\u001b[0;34m*\u001b[0m\u001b[0mself\u001b[0m\u001b[0;34m.\u001b[0m\u001b[0m_get_lines\u001b[0m\u001b[0;34m(\u001b[0m\u001b[0;34m*\u001b[0m\u001b[0margs\u001b[0m\u001b[0;34m,\u001b[0m \u001b[0mdata\u001b[0m\u001b[0;34m=\u001b[0m\u001b[0mdata\u001b[0m\u001b[0;34m,\u001b[0m \u001b[0;34m**\u001b[0m\u001b[0mkwargs\u001b[0m\u001b[0;34m)\u001b[0m\u001b[0;34m]\u001b[0m\u001b[0;34m\u001b[0m\u001b[0;34m\u001b[0m\u001b[0m\n\u001b[0m\u001b[1;32m   1648\u001b[0m         \u001b[0;32mfor\u001b[0m \u001b[0mline\u001b[0m \u001b[0;32min\u001b[0m \u001b[0mlines\u001b[0m\u001b[0;34m:\u001b[0m\u001b[0;34m\u001b[0m\u001b[0;34m\u001b[0m\u001b[0m\n\u001b[1;32m   1649\u001b[0m             \u001b[0mself\u001b[0m\u001b[0;34m.\u001b[0m\u001b[0madd_line\u001b[0m\u001b[0;34m(\u001b[0m\u001b[0mline\u001b[0m\u001b[0;34m)\u001b[0m\u001b[0;34m\u001b[0m\u001b[0;34m\u001b[0m\u001b[0m\n",
            "\u001b[0;32m/usr/local/lib/python3.7/dist-packages/matplotlib/axes/_base.py\u001b[0m in \u001b[0;36m__call__\u001b[0;34m(self, *args, **kwargs)\u001b[0m\n\u001b[1;32m    214\u001b[0m                 \u001b[0mthis\u001b[0m \u001b[0;34m+=\u001b[0m \u001b[0margs\u001b[0m\u001b[0;34m[\u001b[0m\u001b[0;36m0\u001b[0m\u001b[0;34m]\u001b[0m\u001b[0;34m,\u001b[0m\u001b[0;34m\u001b[0m\u001b[0;34m\u001b[0m\u001b[0m\n\u001b[1;32m    215\u001b[0m                 \u001b[0margs\u001b[0m \u001b[0;34m=\u001b[0m \u001b[0margs\u001b[0m\u001b[0;34m[\u001b[0m\u001b[0;36m1\u001b[0m\u001b[0;34m:\u001b[0m\u001b[0;34m]\u001b[0m\u001b[0;34m\u001b[0m\u001b[0;34m\u001b[0m\u001b[0m\n\u001b[0;32m--> 216\u001b[0;31m             \u001b[0;32myield\u001b[0m \u001b[0;32mfrom\u001b[0m \u001b[0mself\u001b[0m\u001b[0;34m.\u001b[0m\u001b[0m_plot_args\u001b[0m\u001b[0;34m(\u001b[0m\u001b[0mthis\u001b[0m\u001b[0;34m,\u001b[0m \u001b[0mkwargs\u001b[0m\u001b[0;34m)\u001b[0m\u001b[0;34m\u001b[0m\u001b[0;34m\u001b[0m\u001b[0m\n\u001b[0m\u001b[1;32m    217\u001b[0m \u001b[0;34m\u001b[0m\u001b[0m\n\u001b[1;32m    218\u001b[0m     \u001b[0;32mdef\u001b[0m \u001b[0mget_next_color\u001b[0m\u001b[0;34m(\u001b[0m\u001b[0mself\u001b[0m\u001b[0;34m)\u001b[0m\u001b[0;34m:\u001b[0m\u001b[0;34m\u001b[0m\u001b[0;34m\u001b[0m\u001b[0m\n",
            "\u001b[0;32m/usr/local/lib/python3.7/dist-packages/matplotlib/axes/_base.py\u001b[0m in \u001b[0;36m_plot_args\u001b[0;34m(self, tup, kwargs)\u001b[0m\n\u001b[1;32m    340\u001b[0m \u001b[0;34m\u001b[0m\u001b[0m\n\u001b[1;32m    341\u001b[0m         \u001b[0;32mif\u001b[0m \u001b[0mx\u001b[0m\u001b[0;34m.\u001b[0m\u001b[0mshape\u001b[0m\u001b[0;34m[\u001b[0m\u001b[0;36m0\u001b[0m\u001b[0;34m]\u001b[0m \u001b[0;34m!=\u001b[0m \u001b[0my\u001b[0m\u001b[0;34m.\u001b[0m\u001b[0mshape\u001b[0m\u001b[0;34m[\u001b[0m\u001b[0;36m0\u001b[0m\u001b[0;34m]\u001b[0m\u001b[0;34m:\u001b[0m\u001b[0;34m\u001b[0m\u001b[0;34m\u001b[0m\u001b[0m\n\u001b[0;32m--> 342\u001b[0;31m             raise ValueError(f\"x and y must have same first dimension, but \"\n\u001b[0m\u001b[1;32m    343\u001b[0m                              f\"have shapes {x.shape} and {y.shape}\")\n\u001b[1;32m    344\u001b[0m         \u001b[0;32mif\u001b[0m \u001b[0mx\u001b[0m\u001b[0;34m.\u001b[0m\u001b[0mndim\u001b[0m \u001b[0;34m>\u001b[0m \u001b[0;36m2\u001b[0m \u001b[0;32mor\u001b[0m \u001b[0my\u001b[0m\u001b[0;34m.\u001b[0m\u001b[0mndim\u001b[0m \u001b[0;34m>\u001b[0m \u001b[0;36m2\u001b[0m\u001b[0;34m:\u001b[0m\u001b[0;34m\u001b[0m\u001b[0;34m\u001b[0m\u001b[0m\n",
            "\u001b[0;31mValueError\u001b[0m: x and y must have same first dimension, but have shapes (1,) and (10,)"
          ]
        },
        {
          "output_type": "display_data",
          "data": {
            "text/plain": [
              "<Figure size 432x288 with 1 Axes>"
            ],
            "image/png": "[encoded data removed]"
          },
          "metadata": {
            "needs_background": "light"
          }
        }
      ]
    },
    {
      "cell_type": "markdown",
      "source": [
        "### Loss plots"
      ],
      "metadata": {
        "id": "BW_M30fvFUKE"
      }
    },
    {
      "cell_type": "code",
      "source": [
        "plt.plot(training(epochs), epochs, label=\"Training Loss\")\n",
        "plt.legend()"
      ],
      "metadata": {
        "id": "nXpgKSJoFWY_"
      },
      "execution_count": null,
      "outputs": []
    },
    {
      "cell_type": "code",
      "source": [],
      "metadata": {
        "id": "5DafU11r04Y1"
      },
      "execution_count": null,
      "outputs": []
    }
  ]
}